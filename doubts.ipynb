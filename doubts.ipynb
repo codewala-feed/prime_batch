{
 "cells": [
  {
   "cell_type": "code",
   "execution_count": 19,
   "metadata": {},
   "outputs": [
    {
     "name": "stdout",
     "output_type": "stream",
     "text": [
      "You entered 432\n",
      "You entered 342\n",
      "You entered 324\n",
      "You entered 324\n",
      "Invalid Input\n"
     ]
    }
   ],
   "source": [
    "\"\"\" \n",
    "to generate sequences\n",
    "to repeat code\n",
    "\"\"\"\n",
    "# for num in range(10):\n",
    "#     print(num)\n",
    "\n",
    "# for num in range(1, 11):\n",
    "#     print(f\"{num} CodeWala\")\n",
    "\n",
    "# for _ in range(1, 11):\n",
    "#     user = input(\"Enter Name: \")\n",
    "#     print(f\"Hey {user}, welcome to python\")\n",
    "\n",
    "for _ in range(10, 20):\n",
    "    num = int(input())\n",
    "    if num < 0:\n",
    "        print(\"Invalid Input\")\n",
    "        break\n",
    "    else:\n",
    "        print(f\"You entered {num}\")"
   ]
  },
  {
   "cell_type": "code",
   "execution_count": 25,
   "metadata": {},
   "outputs": [
    {
     "name": "stdout",
     "output_type": "stream",
     "text": [
      "s\n",
      "t\n",
      "e\n",
      "e\n",
      "v\n",
      "e\n",
      "=========================\n",
      "s\n",
      "t\n",
      "e\n",
      "e\n",
      "v\n",
      "e\n",
      "=========================\n",
      "nick\n",
      "steeve\n"
     ]
    }
   ],
   "source": [
    "name = \"steeve\"\n",
    "for ind in range(len(name)):\n",
    "    print(name[ind])\n",
    "print(\"=========================\")\n",
    "for letter in name:\n",
    "    print(letter)\n",
    "print(\"=========================\")\n",
    "for letter in [\"nick\", \"steeve\"]:\n",
    "    print(letter)"
   ]
  },
  {
   "cell_type": "code",
   "execution_count": 29,
   "metadata": {},
   "outputs": [
    {
     "name": "stdout",
     "output_type": "stream",
     "text": [
      "nick steeve\n",
      "nick steeve\n",
      "nick steeve\n"
     ]
    }
   ],
   "source": [
    "name1 = input()\n",
    "name2 = input()\n",
    "a = 12349324\n",
    "name = \"fwgbweef\"\n",
    "for _ in range(3):\n",
    "    print(name1, name2)"
   ]
  }
 ],
 "metadata": {
  "kernelspec": {
   "display_name": "Python 3",
   "language": "python",
   "name": "python3"
  },
  "language_info": {
   "codemirror_mode": {
    "name": "ipython",
    "version": 3
   },
   "file_extension": ".py",
   "mimetype": "text/x-python",
   "name": "python",
   "nbconvert_exporter": "python",
   "pygments_lexer": "ipython3",
   "version": "3.12.4"
  }
 },
 "nbformat": 4,
 "nbformat_minor": 2
}
