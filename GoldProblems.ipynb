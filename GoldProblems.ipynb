{
 "cells": [
  {
   "cell_type": "code",
   "execution_count": 2,
   "metadata": {},
   "outputs": [
    {
     "name": "stdout",
     "output_type": "stream",
     "text": [
      "False\n"
     ]
    },
    {
     "data": {
      "text/plain": [
       "'\\nh/w: Take three inputs, \\n\\tcheck if their sum is greater than 100 or if one of them is divisible by 10.\\n\\n'"
      ]
     },
     "execution_count": 2,
     "metadata": {},
     "output_type": "execute_result"
    }
   ],
   "source": [
    "\"\"\" \n",
    "1. Take two inputs, \n",
    "\tcheck if their sum is greater than 100 or if one of them is divisible by 10.\n",
    "\"\"\"\n",
    "n1 = int(input())\n",
    "n2 = int(input())\n",
    "cond1 = (n1+n2)>100\n",
    "cond2 = (n1%10==0) or (n2%10==0)\n",
    "print(cond1 or cond2)\n",
    "\n",
    "\"\"\"\n",
    "h/w: Take three inputs, \n",
    "\tcheck if their sum is greater than 100 or if one of them is divisible by 10.\n",
    "\n",
    "\"\"\""
   ]
  },
  {
   "cell_type": "code",
   "execution_count": null,
   "metadata": {},
   "outputs": [
    {
     "name": "stdout",
     "output_type": "stream",
     "text": [
      "Both are even\n"
     ]
    },
    {
     "data": {
      "text/plain": [
       "' \\nh/w: Take two inputs, check if both of the numbers \\n    are even and divided by 5, \\n    both are odd and divided by 5, \\n    or one of each divided by 5.\\n'"
      ]
     },
     "execution_count": 4,
     "metadata": {},
     "output_type": "execute_result"
    }
   ],
   "source": [
    "\"\"\"\n",
    "2. Take two inputs\n",
    "\tcheck if both of the numbers are even, both are odd, \n",
    "    one is even and other is odd.\n",
    "\"\"\"\n",
    "n1 = int(input())\n",
    "n2 = int(input())\n",
    "\n",
    "if n1 % 2 == 0 and n2 % 2 == 0:\n",
    "    print(\"Both are even\")\n",
    "elif (n1 % 2 != 0) and (n2 % 2 != 0):\n",
    "    print(\"Both are odd\")\n",
    "else:\n",
    "    print(\"One is even and other is odd\")\n",
    "    \n",
    "\n",
    "\n",
    "\"\"\" \n",
    "h/w: Take two inputs, check if both of the numbers \n",
    "    are even and divided by 5, \n",
    "    both are odd and divided by 5, \n",
    "    or one of each divided by 5.\n",
    "\"\"\""
   ]
  },
  {
   "cell_type": "code",
   "execution_count": 5,
   "metadata": {},
   "outputs": [
    {
     "name": "stdout",
     "output_type": "stream",
     "text": [
      "6\n"
     ]
    },
    {
     "data": {
      "text/plain": [
       "'\\nh/w: Take one input\\n\\tPower it with 5, subtract it with 0. Print the final result.\\n'"
      ]
     },
     "execution_count": 5,
     "metadata": {},
     "output_type": "execute_result"
    }
   ],
   "source": [
    "\"\"\" \n",
    "3. Take one input\n",
    "\tIncrease it by 10, multiply it by 2, and divide it by 5. Print the final result.\n",
    "\"\"\"\n",
    "n = int(input())\n",
    "n += 10\n",
    "n *= 2\n",
    "n //= 5\n",
    "print(n)\n",
    "\"\"\"\n",
    "h/w: Take one input\n",
    "\tPower it with 5, subtract it with 0. Print the final result.\n",
    "\"\"\""
   ]
  },
  {
   "cell_type": "code",
   "execution_count": 6,
   "metadata": {},
   "outputs": [
    {
     "name": "stdout",
     "output_type": "stream",
     "text": [
      "1\n",
      "2\n",
      "3\n",
      "4\n",
      "5\n",
      "6\n",
      "7\n",
      "8\n",
      "9\n",
      "10\n"
     ]
    },
    {
     "data": {
      "text/plain": [
       "'\\nh/w: print numbers from 10 to 1.\\n'"
      ]
     },
     "execution_count": 6,
     "metadata": {},
     "output_type": "execute_result"
    }
   ],
   "source": [
    "\"\"\" \n",
    "4. Print numbers from 1 to 10 using a loop.\n",
    "\"\"\"\n",
    "for mounesh in range(1, 11):\n",
    "    print(mounesh)\n",
    "\n",
    "\n",
    "\"\"\"\n",
    "h/w: print numbers from 10 to 1.\n",
    "\"\"\""
   ]
  },
  {
   "cell_type": "code",
   "execution_count": 10,
   "metadata": {},
   "outputs": [
    {
     "name": "stdout",
     "output_type": "stream",
     "text": [
      "[1, 2, 3, 4, 5, 6, 7, 8, 9, 10]\n"
     ]
    },
    {
     "data": {
      "text/plain": [
       "'\\nh/w: Create an empty list and store from 10 to 1 and print it.\\n'"
      ]
     },
     "execution_count": 10,
     "metadata": {},
     "output_type": "execute_result"
    }
   ],
   "source": [
    "\"\"\"\n",
    "5. Create an empty list and store from 1 to 10 and print it.\n",
    "\"\"\"\n",
    "arr = []\n",
    "for mounesh in range(1, 11):\n",
    "    arr.append(mounesh)\n",
    "print(arr)\n",
    "\n",
    "\"\"\"\n",
    "h/w: Create an empty list and store from 10 to 1 and print it.\n",
    "\"\"\""
   ]
  },
  {
   "cell_type": "code",
   "execution_count": 12,
   "metadata": {},
   "outputs": [
    {
     "name": "stdout",
     "output_type": "stream",
     "text": [
      "30\n",
      "-10\n",
      "200\n"
     ]
    },
    {
     "data": {
      "text/plain": [
       "' \\nh/w: Take two inputs from the user (both numbers),\\n        print their sum + difference + product\\n'"
      ]
     },
     "execution_count": 12,
     "metadata": {},
     "output_type": "execute_result"
    }
   ],
   "source": [
    "\"\"\" \n",
    "6. Take two inputs from the user (both numbers), \n",
    "        print their sum, difference, and product.\n",
    "\"\"\"\n",
    "n1 = int(input())\n",
    "n2 = int(input())\n",
    "print(n1+n2)\n",
    "print(n1-n2)\n",
    "# print(abs(n1-n2))\n",
    "print(n1*n2)\n",
    "\n",
    "\n",
    "\"\"\" \n",
    "h/w: Take two inputs from the user (both numbers),\n",
    "        print their sum + difference + product\n",
    "\"\"\""
   ]
  },
  {
   "cell_type": "code",
   "execution_count": 14,
   "metadata": {},
   "outputs": [
    {
     "name": "stdout",
     "output_type": "stream",
     "text": [
      "original:  10 20\n",
      "after swapping (20, 10)\n"
     ]
    },
    {
     "data": {
      "text/plain": [
       "'\\nh/w: print the id() of both variables before and after swapping.\\n'"
      ]
     },
     "execution_count": 14,
     "metadata": {},
     "output_type": "execute_result"
    }
   ],
   "source": [
    "\"\"\" \n",
    "7. Given two variables a and b, swap their values using a temporary variable \n",
    "\"\"\"\n",
    "n1 = int(input())\n",
    "n2 = int(input())\n",
    "print(\"original: \", n1, n2)\n",
    "\n",
    "temp = n1\n",
    "n1 = n2\n",
    "n2 = temp\n",
    "print(f\"after swapping {n1, n2}\")\n",
    "\n",
    "\"\"\"\n",
    "h/w: print the id() of both variables before and after swapping.\n",
    "\"\"\""
   ]
  },
  {
   "cell_type": "markdown",
   "metadata": {},
   "source": [
    "##### REVISE THE string, list, set, dict METHODS BEFORE SOLVING NEXT PROBLEMS"
   ]
  },
  {
   "cell_type": "code",
   "execution_count": 16,
   "metadata": {},
   "outputs": [
    {
     "name": "stdout",
     "output_type": "stream",
     "text": [
      "p n\n"
     ]
    },
    {
     "data": {
      "text/plain": [
       "'\\nh/w: Take a string input, print the second and second last character.\\n\\n'"
      ]
     },
     "execution_count": 16,
     "metadata": {},
     "output_type": "execute_result"
    }
   ],
   "source": [
    "\"\"\" \n",
    "8. Take a string input, print the first and last character.\n",
    "\"\"\"\n",
    "user = input()\n",
    "print(user[0], user[-1])\n",
    "\n",
    "\n",
    "\"\"\"\n",
    "h/w: Take a string input, print the second and second last character.\n",
    "\n",
    "\"\"\""
   ]
  },
  {
   "cell_type": "code",
   "execution_count": null,
   "metadata": {},
   "outputs": [
    {
     "name": "stdout",
     "output_type": "stream",
     "text": [
      "\n",
      "9. Take a multi-line string input(not user input)\n",
      " and store it in a variable\n",
      "   using triple quotes.\n",
      "\n"
     ]
    },
    {
     "data": {
      "text/plain": [
       "'\\nh/w: Take a multi-line string input\\n        print the length of it after storing in variable using triple quotes.\\n'"
      ]
     },
     "execution_count": 18,
     "metadata": {},
     "output_type": "execute_result"
    }
   ],
   "source": [
    "\"\"\"\n",
    "9. Take a multi-line string input(not user input) and\n",
    "    store it in a variable using triple quotes.\n",
    "\"\"\"\n",
    "a = \"\"\"\n",
    "\t\t9. Take a multi-line string input(not user input)\n",
    "\t\tand store it in a variable\n",
    "\t\tusing triple quotes.\n",
    "\t\"\"\"\n",
    "print(a)\n",
    "\n",
    "\"\"\"\n",
    "h/w: Take a multi-line string input\n",
    "        print the length of it after storing in variable using triple quotes.\n",
    "\"\"\""
   ]
  },
  {
   "cell_type": "code",
   "execution_count": null,
   "metadata": {},
   "outputs": [],
   "source": [
    "\"\"\" \n",
    "10. Concatenate two strings and print their lengths.\n",
    "\"\"\"\n",
    "\n",
    "\"\"\"\n",
    "h/w: Concatenate two strings separated by - and print their lengths.\n",
    "\"\"\""
   ]
  },
  {
   "cell_type": "code",
   "execution_count": null,
   "metadata": {},
   "outputs": [
    {
     "name": "stdout",
     "output_type": "stream",
     "text": [
      "world hello\n"
     ]
    },
    {
     "data": {
      "text/plain": [
       "'\\nh/w: Take a sentence from the user, reverse the words and print along with - between each word.\\nExample: Input: \"Hello World\" → Output: \"World-Hello\"\\n'"
      ]
     },
     "execution_count": 23,
     "metadata": {},
     "output_type": "execute_result"
    }
   ],
   "source": [
    "\"\"\"\n",
    "11. Take a sentence from the user, reverse words and print it.\n",
    "Example: Input: \"Hello World\" → Output: \"World Hello\"\n",
    "\"\"\"\n",
    "\n",
    "user = input().split()\n",
    "print(\" \".join(user[::-1]))\n",
    "\n",
    "\n",
    "\"\"\"\n",
    "h/w: Take a sentence from the user, \n",
    "reverse the words and print along with - between each word.\n",
    "Example: Input: \"Hello World\" → Output: \"World-Hello\"\n",
    "\"\"\""
   ]
  },
  {
   "cell_type": "code",
   "execution_count": null,
   "metadata": {},
   "outputs": [
    {
     "name": "stdout",
     "output_type": "stream",
     "text": [
      "XNIL\n"
     ]
    },
    {
     "data": {
      "text/plain": [
       "\"\\nh/w: Take a string input\\n\\tReplace all lowercase 'a' with 'A'\\n\""
      ]
     },
     "execution_count": 24,
     "metadata": {},
     "output_type": "execute_result"
    }
   ],
   "source": [
    "\"\"\" \n",
    "12. Take a string input\n",
    "\tconvert it to uppercase, and \n",
    "    replace all occurrences of the letter 'A' with 'X'.\n",
    "\"\"\"\n",
    "user = input().upper()\n",
    "user = user.replace(\"A\", \"X\")\n",
    "print(user)\n",
    "\n",
    "\"\"\"\n",
    "h/w: Take a string input\n",
    "\tReplace all lowercase 'a' with 'A'\n",
    "\"\"\""
   ]
  },
  {
   "cell_type": "code",
   "execution_count": 27,
   "metadata": {},
   "outputs": [
    {
     "name": "stdout",
     "output_type": "stream",
     "text": [
      "-\n",
      "@\n"
     ]
    },
    {
     "data": {
      "text/plain": [
       "'\\nh/w: Take a sentence, store alphabets and digits in separate lists.\\n'"
      ]
     },
     "execution_count": 27,
     "metadata": {},
     "output_type": "execute_result"
    }
   ],
   "source": [
    "\"\"\"\n",
    "13. Take a sentence, print only non-alpha and non-digit characters.\n",
    "\"\"\"\n",
    "user = \"this-is@python1234\"\n",
    "for letter in range(len(user)):\n",
    "    character = user[letter]\n",
    "    if not character.isalpha() and not character.isdigit():\n",
    "    \tprint(character)\n",
    "\n",
    "\"\"\"\n",
    "h/w: Take a sentence, store alphabets and digits in separate lists.\n",
    "\"\"\""
   ]
  },
  {
   "cell_type": "code",
   "execution_count": 28,
   "metadata": {},
   "outputs": [
    {
     "name": "stdout",
     "output_type": "stream",
     "text": [
      "this        is python\n"
     ]
    },
    {
     "data": {
      "text/plain": [
       "\"\\nh/w: Take a string with leading and trailing spaces\\n \\tremove only trailing spaces, and print the cleaned string & it's length\\n\""
      ]
     },
     "execution_count": 28,
     "metadata": {},
     "output_type": "execute_result"
    }
   ],
   "source": [
    "\"\"\" \n",
    "14. Take a string with leading and trailing spaces\n",
    "\tremove them, and print the cleaned string.\n",
    "\"\"\"\n",
    "\n",
    "user = \"   this        is python        \"\n",
    "print(user.strip())\n",
    "\n",
    "\"\"\"\n",
    "h/w: Take a string with leading and trailing spaces\n",
    " \tremove only trailing spaces, and print the cleaned string & it's length\n",
    "\"\"\""
   ]
  },
  {
   "cell_type": "code",
   "execution_count": 29,
   "metadata": {},
   "outputs": [
    {
     "name": "stdout",
     "output_type": "stream",
     "text": [
      "0\n",
      "2\n",
      "4\n",
      "6\n",
      "8\n",
      "10\n"
     ]
    },
    {
     "data": {
      "text/plain": [
       "'\\nh/w: Print all odd numbers from 1 to n using a for loop.\\n'"
      ]
     },
     "execution_count": 29,
     "metadata": {},
     "output_type": "execute_result"
    }
   ],
   "source": [
    "\"\"\"\n",
    "15. Print all even numbers from 1 to n using a for loop.\n",
    "\"\"\"\n",
    "n = int(input())\n",
    "for i in range(0, n+1, 2):\n",
    "    print(i)\n",
    "\n",
    "\"\"\"\n",
    "h/w: Print all odd numbers from 1 to n using a for loop.\n",
    "\"\"\""
   ]
  },
  {
   "cell_type": "code",
   "execution_count": null,
   "metadata": {},
   "outputs": [
    {
     "data": {
      "text/plain": [
       "'\\nh/w: Repeatedly asks for user input until they type \"quit\" or \"QUIT\" or \"Quit\" (use while loop). \\n\\n'"
      ]
     },
     "execution_count": 30,
     "metadata": {},
     "output_type": "execute_result"
    }
   ],
   "source": [
    "\"\"\"\n",
    "16. Repeatedly asks for user input until they type \"quit\" (use while loop).\n",
    "\"\"\"\n",
    "while True:\n",
    "    user = input().lower()\n",
    "    if user == \"quit\":\n",
    "        break\n",
    "\n",
    "\"\"\"\n",
    "h/w: Repeatedly asks for user input until they type \"quit\" or \"QUIT\" or \"Quit\" (use while loop). \n",
    "\n",
    "\"\"\""
   ]
  },
  {
   "cell_type": "code",
   "execution_count": 1,
   "metadata": {},
   "outputs": [
    {
     "name": "stdout",
     "output_type": "stream",
     "text": [
      "1\n",
      "2\n",
      "3\n",
      "4\n",
      "5\n",
      "6\n",
      "7\n",
      "8\n",
      "9\n",
      "10\n",
      "11\n",
      "12\n",
      "1\n",
      "2\n",
      "3\n",
      "4\n",
      "5\n",
      "1\n",
      "2\n",
      "3\n",
      "4\n",
      "5\n"
     ]
    },
    {
     "data": {
      "text/plain": [
       "'\\nh/w: Repeatedly asks for user input until they type \"quit\". (use while loop). \\n    if they enter digit, store the numbers from 1 to n(user entered digit) in list and print it.\\n'"
      ]
     },
     "execution_count": 1,
     "metadata": {},
     "output_type": "execute_result"
    }
   ],
   "source": [
    "\"\"\"\n",
    "17. Repeatedly asks for user input until they type \"quit\". (use while loop). \n",
    "    if they enter digit, print the numbers from 1 to n(user entered digit).\n",
    "\"\"\"\n",
    "\n",
    "while True:\n",
    "    user = input() #  \"10\"\n",
    "    if user == \"quit\":\n",
    "        break\n",
    "    if user.isdigit():\n",
    "       n = int(user) # int(\"10\") --> 10\n",
    "       for i in range(1, n+1):\n",
    "          print(i) \n",
    "\n",
    "\n",
    "\"\"\"\n",
    "h/w: Repeatedly asks for user input until they type \"quit\". (use while loop). \n",
    "    if they enter digit, store the numbers from 1 to n(user entered digit) in list and print it.\n",
    "\"\"\""
   ]
  },
  {
   "cell_type": "code",
   "execution_count": null,
   "metadata": {},
   "outputs": [
    {
     "name": "stdout",
     "output_type": "stream",
     "text": [
      "Not Prime\n"
     ]
    },
    {
     "data": {
      "text/plain": [
       "\"\\nh/w: Take a number input and print whether it's a composite number or not.\\n\""
      ]
     },
     "execution_count": 40,
     "metadata": {},
     "output_type": "execute_result"
    }
   ],
   "source": [
    "\"\"\"\n",
    "18. Take a number input and print whether it's a prime number or not.\n",
    "\"\"\"\n",
    "num = int(input())\n",
    "for table in range(2, (int((num//2)**0.5))+1):\n",
    "    if num % table == 0:\n",
    "        print(\"Not Prime\")\n",
    "        break\n",
    "else:\n",
    "\tprint(\"Prime\")\n",
    "\n",
    "\"\"\"\n",
    "h/w: Take a number input and print whether it's a composite number or not.\n",
    "\"\"\""
   ]
  },
  {
   "cell_type": "code",
   "execution_count": 42,
   "metadata": {},
   "outputs": [
    {
     "name": "stdout",
     "output_type": "stream",
     "text": [
      "[1, 2, 3, 4, 5] 15 15\n"
     ]
    },
    {
     "data": {
      "text/plain": [
       "'\\nh/w: Print the sum of 6 to 10 numbers without using list, just use loop.\\n'"
      ]
     },
     "execution_count": 42,
     "metadata": {},
     "output_type": "execute_result"
    }
   ],
   "source": [
    "\"\"\"\n",
    "19. Create a list of 1 to 5 numbers and print their sum using a loop.\n",
    "\tUse sum() after solving it manually.\n",
    "\"\"\"\n",
    "nums = []\n",
    "total = 0\n",
    "for i in range(1, 6):\n",
    "    nums.append(i)\n",
    "    total += i\n",
    "print(nums, total, sum(nums))\n",
    "\n",
    "\n",
    "\"\"\"\n",
    "h/w: Print the sum of 6 to 10 numbers without using list, just use loop.\n",
    "\"\"\""
   ]
  },
  {
   "cell_type": "code",
   "execution_count": 45,
   "metadata": {},
   "outputs": [
    {
     "name": "stdout",
     "output_type": "stream",
     "text": [
      "original ('apple', 'cat', 'bear')\n",
      "sorted ('apple', 'bear', 'cat')\n"
     ]
    },
    {
     "data": {
      "text/plain": [
       "'\\nh/w: Create a tuple of 5 strings, convert into list\\n\\t Sort them alphabetically descending and print the result in tuple format.\\n'"
      ]
     },
     "execution_count": 45,
     "metadata": {},
     "output_type": "execute_result"
    }
   ],
   "source": [
    "\"\"\"\n",
    "20. Create a tuple of 5 strings, convert into list\n",
    "\t Sort them alphabetically ascending and print the result in tuple format.\n",
    "\"\"\"\n",
    "names = (\"apple\", \"cat\", \"bear\")\n",
    "print(f\"original {names}\")\n",
    "\n",
    "names = list(names)\n",
    "names.sort()\n",
    "names = tuple(names)\n",
    "print(f\"sorted {names}\")\n",
    "# find out the mistake\n",
    "\n",
    "\n",
    "\"\"\"\n",
    "h/w: Create a tuple of 5 strings, convert into list\n",
    "\t Sort them alphabetically descending and print the result in tuple format.\n",
    "\"\"\""
   ]
  },
  {
   "cell_type": "code",
   "execution_count": 47,
   "metadata": {},
   "outputs": [
    {
     "name": "stdout",
     "output_type": "stream",
     "text": [
      "['b', 'a']\n"
     ]
    },
    {
     "data": {
      "text/plain": [
       "'\\nh/w: Take the list input, remove the duplicates in it and print as list but sorted.\\n\\n'"
      ]
     },
     "execution_count": 47,
     "metadata": {},
     "output_type": "execute_result"
    }
   ],
   "source": [
    "\"\"\"\n",
    "21. Take the list input one by one element,\n",
    "\t remove the duplicates in it and print as list.\n",
    "\t# no priority for order of elements\n",
    "\"\"\"\n",
    "arr = []\n",
    "n = int(input())\n",
    "for i in range(n):\n",
    "    user = input()\n",
    "    arr.append(user)\n",
    "arr = list(set(arr))\n",
    "print(arr)\n",
    "\n",
    "\"\"\"\n",
    "h/w: Take the list input, remove the duplicates in it and print as list but sorted.\n",
    "\n",
    "\"\"\""
   ]
  },
  {
   "cell_type": "code",
   "execution_count": null,
   "metadata": {},
   "outputs": [
    {
     "name": "stdout",
     "output_type": "stream",
     "text": [
      "['arr', 'arr', 'python', 'code', 'python']\n",
      "['arr', 'python', 'code']\n"
     ]
    },
    {
     "data": {
      "text/plain": [
       "'\\nh/w: Take the list input\\n\\tremove the duplicates in it and print without changing the order after removing and check it 0 in it.\\n'"
      ]
     },
     "execution_count": 50,
     "metadata": {},
     "output_type": "execute_result"
    }
   ],
   "source": [
    "\"\"\"\n",
    "22. Take the list input (space separated)\n",
    "\tremove the duplicates in it and print without changing the order after removing.\n",
    "\"\"\"\n",
    "arr = input().split()\n",
    "output = []\n",
    "for i in range(len(arr)):\n",
    "    if arr[i] not in output:\n",
    "        output.append(arr[i])\n",
    "print(arr)\n",
    "print(output)\n",
    "# =================================\n",
    "existed = set()\n",
    "output = []\n",
    "for i in range(len(arr)):\n",
    "    if arr[i] not in existed:\n",
    "        output.append(arr[i])\n",
    "        existed.add(arr[i])\n",
    "\n",
    "print(arr)\n",
    "print(output)\n",
    "\"\"\"\n",
    "h/w: Take the list input\n",
    "\tremove the duplicates in it and print without changing the order after removing and check it 0 in it.\n",
    "\"\"\""
   ]
  },
  {
   "cell_type": "code",
   "execution_count": null,
   "metadata": {},
   "outputs": [],
   "source": [
    "\"\"\"\n",
    "23. Create an empty dictionary \n",
    "\tAdd three key-value pairs: (name, age, and city) and print it.\n",
    "\"\"\"\n",
    "\n",
    "\"\"\"\n",
    "h/w: Create an empty dictionary \n",
    "\tAdd three key-value pairs: (name, age, and city) update age and print updated dictionary.\n",
    "\"\"\""
   ]
  },
  {
   "cell_type": "code",
   "execution_count": null,
   "metadata": {},
   "outputs": [],
   "source": [
    "\"\"\"\n",
    "24. Write a function that takes two numbers and returns their sum.\n",
    "\"\"\"\n",
    "\n",
    "\"\"\"\n",
    "h/w: Write a function that can work for both two or three parameters (use default parameter).\n",
    "\"\"\""
   ]
  },
  {
   "cell_type": "code",
   "execution_count": null,
   "metadata": {},
   "outputs": [],
   "source": [
    "\"\"\"\n",
    "25. Use a lambda function to filter out all even numbers from a list of numbers.\n",
    "\"\"\"\n",
    "\n",
    "\"\"\"\n",
    "h/w: Use a lambda function to filter out all odd numbers from a list of numbers.\n",
    "\"\"\""
   ]
  },
  {
   "cell_type": "code",
   "execution_count": null,
   "metadata": {},
   "outputs": [],
   "source": [
    "\"\"\"\n",
    "26. Using map() and a lambda function, print the lengths of each string in list of strings.\n",
    "\"\"\"\n",
    "\n",
    "\"\"\"\n",
    "h/w: Using map() and a lambda function, print the sum of (lengths of each string in list of strings).\n",
    "     Using map() and a lambda function, convert each string in list to uppercase.\n",
    "\"\"\""
   ]
  },
  {
   "cell_type": "code",
   "execution_count": null,
   "metadata": {},
   "outputs": [],
   "source": [
    "\"\"\"\n",
    "27. Write a program that attempts to divide two numbers and handles below exception\n",
    "\t division by zero error using try-except.\n",
    "\"\"\"\n",
    "\n",
    "\"\"\"\n",
    "h/w: Extend above code with finally to print 'Operation has completed'.\n",
    "     Write a program that attempts to integer input and handles below exception\n",
    "\t when attempts to give string input .\n",
    "\"\"\""
   ]
  },
  {
   "cell_type": "markdown",
   "metadata": {},
   "source": [
    "## Try On Your Own"
   ]
  },
  {
   "cell_type": "code",
   "execution_count": null,
   "metadata": {},
   "outputs": [],
   "source": [
    "\"\"\"\n",
    "28. Count Even and Odd Numbers in a List\n",
    "\n",
    "Problem: Write a function that takes a list of numbers and returns a tuple with two values: the count of even numbers and the count of odd numbers in the list.\n",
    "\n",
    "Hint: Use a loop and conditional statements to determine if a number is even or odd.\n",
    "\n",
    "SAMPLE INPUT: [1, 2, 3, 4, 5, 6, 7, 8, 9, 10]\n",
    "SAMPLE OUTPUT: (5, 5)\n",
    "\"\"\""
   ]
  },
  {
   "cell_type": "code",
   "execution_count": null,
   "metadata": {},
   "outputs": [],
   "source": [
    "\"\"\" \n",
    "29. Filter Palindromes from a List\n",
    "\n",
    "Problem: Write a program that takes a list of strings and returns a new list containing only the strings that are palindromes.\n",
    "\n",
    "Hint:  You can use filter, lambda along with slicing or the reversed() function.\n",
    "\n",
    "SAMPLE INPUT: [\"madam\", \"hello\", \"level\", \"world\", \"radar\", \"python\"]\n",
    "SAMPLE OUTPUT: ['madam', 'level', 'radar']\n",
    "\"\"\"\n"
   ]
  },
  {
   "cell_type": "code",
   "execution_count": null,
   "metadata": {},
   "outputs": [],
   "source": [
    "\"\"\" \n",
    "30. Sum of Squares of Positive Numbers in a List\n",
    "\n",
    "Problem: Create a function that takes a list of integers, filters out the negative numbers, and returns the sum of the squares of the remaining positive numbers.\n",
    "\n",
    "Hint: Use a combination of filter() and map() along with a lambda function.\n",
    "\n",
    "SAMPLE INPUT: [-3, 4, -2, 5, -1, 6]\n",
    "SAMPLE OUTPUT: 77\n",
    "\"\"\""
   ]
  }
 ],
 "metadata": {
  "kernelspec": {
   "display_name": "Python 3",
   "language": "python",
   "name": "python3"
  },
  "language_info": {
   "codemirror_mode": {
    "name": "ipython",
    "version": 3
   },
   "file_extension": ".py",
   "mimetype": "text/x-python",
   "name": "python",
   "nbconvert_exporter": "python",
   "pygments_lexer": "ipython3",
   "version": "3.12.4"
  }
 },
 "nbformat": 4,
 "nbformat_minor": 2
}
