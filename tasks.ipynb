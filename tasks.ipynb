{
 "cells": [
  {
   "cell_type": "code",
   "execution_count": 5,
   "metadata": {},
   "outputs": [
    {
     "name": "stdout",
     "output_type": "stream",
     "text": [
      "Uppercase: THIS IS A BAD EXAMPLE OF A BAD SITUATION.\n",
      "Occurences of 'E': 2\n",
      "Replaced: This is a good example of a good situation.\n",
      "Length: 43\n",
      "Sliced Substring: This is a \n"
     ]
    }
   ],
   "source": [
    "# Task1\n",
    "\"\"\"\n",
    "Task: Format and Analyze a Sentence\n",
    "Description: Given a sentence, perform the following operations:\n",
    "\n",
    "- Convert the entire sentence to uppercase.\n",
    "- Count the number of occurrences of the letter 'E'.\n",
    "- Replace all occurrences of the word \"bad\" with \"good\".\n",
    "- Capitalize the first letter of each word.\n",
    "- Find the length of the modified sentence.\n",
    "- Extract a substring from the modified sentence, Get the first 10 characters.\n",
    "\n",
    "Sample Input:\n",
    "-------------\n",
    "sentence = \"This is a bad example of a bad situation.\"\n",
    "\n",
    "Sample Output:\n",
    "--------------\n",
    "Uppercase: THIS IS A BAD EXAMPLE OF A BAD SITUATION.\n",
    "Occurrences of 'E': 2\n",
    "Replaced: This is a good example of a good situation.\n",
    "Capitalized: This Is A Good Example Of A Good Situation.\n",
    "Length: 43\n",
    "Sliced Substring: This is a \n",
    "\"\"\"\n",
    "\n",
    "sentence = \"This is a bad example of a bad situation.\"\n",
    "sentence1 = sentence.upper()\n",
    "print(f\"Uppercase: {sentence1}\")\n",
    "print(f\"Occurences of 'E': {sentence1.count('E')}\")\n",
    "\n",
    "sentence = sentence.replace(\"bad\", \"good\")\n",
    "print(f\"Replaced: {sentence}\")\n",
    "print(f\"Length: {len(sentence)}\")\n",
    "print(f\"Sliced Substring: {sentence[:10]}\")"
   ]
  },
  {
   "cell_type": "code",
   "execution_count": 15,
   "metadata": {},
   "outputs": [
    {
     "name": "stdout",
     "output_type": "stream",
     "text": [
      "\n",
      "steeverogers ---- steeveroXX\n",
      "steeverogers ---- steeveroXX\n"
     ]
    }
   ],
   "source": [
    "\"\"\" \n",
    "TASK: Get the username from the user and generate the userid\n",
    "For Memory Issues, Limit the userid to length 10 with following conditions\n",
    "  - if the length of userid is less than 10, then cover it with 0 at prefix\n",
    "  - if length of userid exceeds 10, then remove the extra characters\n",
    "\n",
    "For the security reasons, we had to mask the user id with following:\n",
    "  replace the last two characters with 'X'\n",
    "Print the userid along with masked userid\n",
    "\n",
    "Sample Input1:\n",
    "  nick\n",
    "Sample Output1:\n",
    "  000000nick ---- 000000niXX\n",
    "\n",
    "Sample Input2:\n",
    "  codewala\n",
    "Sample Output2:\n",
    "  00codewala ---- 00codewaXX\n",
    "\n",
    "Sample Input3:\n",
    "  SteeveRogers\n",
    "Sample Output3:\n",
    "  SteeveRoge ---- SteeveRoXX\n",
    "\n",
    "\"\"\"\n",
    "print()\n",
    "name = \"steeverogers\"\n",
    "n = (10 - len(name))\n",
    "userid = (n*\"0\") + name\n",
    "masked = userid[:8]+\"XX\"\n",
    "# print(userid, userid[:8]+\"XX\")\n",
    "print(f\"{userid} ---- {masked}\")\n",
    "\n",
    "name = \"steeverogers\"\n",
    "userid = ((10 - len(name))*\"0\") + name\n",
    "print(f\"{userid} ---- {userid[:8]+\"XX\"}\")"
   ]
  },
  {
   "cell_type": "code",
   "execution_count": 12,
   "metadata": {},
   "outputs": [
    {
     "name": "stdout",
     "output_type": "stream",
     "text": [
      "\n",
      "domain 3\n"
     ]
    }
   ],
   "source": [
    "\"\"\" \n",
    "TASK: Take email as an input from user, than can contain \n",
    "      lower, upper, numbers and domains like @gmail.com, @hotmail.com, @yahoo.com\n",
    "    After separating the domain,\n",
    "      print the domainless lowercase name and count the number of vowels in the email.\n",
    "\n",
    "      Your code should work for all the mails, irrespective of the domain.\n",
    "      NOTE: No invalid email should be taken\n",
    "\n",
    "Sample Input1:\n",
    "  NIck@gmail.com\n",
    "Sample Output1:\n",
    "  nick ---- 1\n",
    "\n",
    "Sample Input2:\n",
    "  coDEwala@yahoo.com\n",
    "Sample Output2:\n",
    "  codewala ---- 4\n",
    "\n",
    "Sample Input3:\n",
    "  SteeveRogers123@hotmail.com\n",
    "Sample Output3:\n",
    "  steeverogers123 ---- 5\n",
    "\n",
    "\"\"\"\n",
    "print()\n",
    "email = input(\"Enter Email: \").lower()\n",
    "# SteeveRogers123@hotmail.com\n",
    "ind = email.find(\"@\")\n",
    "vowels = \"aeiou\"\n",
    "domainless =  email[0:ind]\n",
    "cnt = 0\n",
    "for v in range(5):\n",
    "    letter = vowels[v] #a\n",
    "    cnt += domainless.count(letter) #domain@gmail.com\n",
    "print(domainless, cnt)\n",
    "# print(domainless.count(\"a\")+domainless.count(\"e\"))"
   ]
  },
  {
   "cell_type": "code",
   "execution_count": 6,
   "metadata": {},
   "outputs": [
    {
     "name": "stdout",
     "output_type": "stream",
     "text": [
      "[vowels] ---IouoiAa\n",
      "[consonents] ---CldDThslldy\n"
     ]
    }
   ],
   "source": [
    "\"\"\" \n",
    "Take a sentence and separate the vowels and consonants.\n",
    "Do not convert the sentence into lower.\n",
    "If the sentence contains 0 in it, consider it as invalid,\n",
    "    you dont have to separate vowels & consonants\n",
    "\n",
    "Sample Input1:\n",
    "  This Is codewala\n",
    "Sample Output1:\n",
    "  [vowels] --- iIoeaa\n",
    "  [consonants] --- Thsscdwl\n",
    "\n",
    "Sample Input2:\n",
    "  This Is DSA\n",
    "Sample Output2:\n",
    "  [vowels] --- iIA\n",
    "  [consonants] --- ThssDS\n",
    "\n",
    "Sample Input3:\n",
    "  I Could Do This All day\n",
    "Sample Output3:\n",
    "  [vowels] --- IouoiAa\n",
    "  [consonants] --- CldDThslldy\n",
    "\n",
    "CONSTRAINTS:\n",
    "  should not take special characters and numbers\n",
    "  sentence can have spaces\n",
    "  output should not contain spaces\n",
    "\"\"\"\n",
    "sentence = \"I Could Do This All day\"\n",
    "sentence = sentence.replace(\" \", \"\")\n",
    "vowels = \"\"\n",
    "consonents = \"\"\n",
    "\n",
    "if '0' in sentence:\n",
    "    print(\"Invalid\")\n",
    "else:\n",
    "    for letter in range(len(sentence)):\n",
    "        if sentence[letter] in \"aeiouAEIOU\":\n",
    "            vowels += sentence[letter]\n",
    "        else:\n",
    "            consonents += sentence[letter]\n",
    "print(f\"[vowels] ---{vowels}\")\n",
    "print(f\"[consonents] ---{consonents}\")"
   ]
  },
  {
   "cell_type": "code",
   "execution_count": 23,
   "metadata": {},
   "outputs": [
    {
     "name": "stdout",
     "output_type": "stream",
     "text": [
      "\n"
     ]
    }
   ],
   "source": [
    "\"\"\"  \n",
    "Create empty list 'names' and Get 5 inputs from the user & store it in 'names'\n",
    "After taking five inputs, \n",
    "\tconvert even indexed words into upper and odd indexed words to lower\n",
    "\n",
    "finally, form a sentence with all the modified words into one sentence separated by -\n",
    "print the list after modified\n",
    "print the combined sentence separated with -\n",
    "\n",
    "Sample Input1:\n",
    "  [\"Alaric\", \"SteFan\", \"Damon\", \"ElEna\"]\n",
    "Sample Output1:\n",
    "  [\"ALARIC\", \"stefan\", \"DAMON\", \"elena\"]\n",
    "  ALARIC-stefan-DAMON-elena\n",
    "\n",
    "Sample Input2:\n",
    "  [\"Chris\", \"Evans\", \"Steeve\", \"CodeWala\"]\n",
    "Sample Output2:\n",
    "  [\"CHRIS\", \"evans\", \"STEEVE\", \"codewala\"]\n",
    "  CHRIS-evans-STEEVE-codewala\n",
    "\n",
    "Sample Input3:\n",
    "  [\"Caroline\", \"KlaUs\"]\n",
    "Sample Output3:\n",
    "  [\"CAROLINE\", \"klaus\"]\n",
    "  CAROLINE-klaus\n",
    "\n",
    "CONSTRAINTS:\n",
    "  words can have upper/lower/digits in it \n",
    "\n",
    "\"\"\"\n"
   ]
  },
  {
   "cell_type": "code",
   "execution_count": 28,
   "metadata": {},
   "outputs": [
    {
     "name": "stdout",
     "output_type": "stream",
     "text": [
      "\n"
     ]
    }
   ],
   "source": [
    "\"\"\" \n",
    "data = [[1001, \"steeve\", [\"brooklyn\", \"USA\", [\"captain america\"]]]]\n",
    "extract the captain america from the data and print it in uppercase\n",
    "\n",
    "OUTPUT:- \n",
    "  CAPTAIN AMERICA\n",
    "\"\"\""
   ]
  },
  {
   "cell_type": "code",
   "execution_count": null,
   "metadata": {},
   "outputs": [],
   "source": [
    "\"\"\" \n",
    "employee_db = [\n",
    "        (1234, 'John', 'Physics', 23000),\n",
    "        (1235, 'Nick', 'Maths', 13000),\n",
    "        (1236, 'Samantha', 'Maths', 40000), \n",
    "        (1237, 'Amanda', 'Chemistry', 25000), \n",
    "        (1238, 'Vicky', 'Maths', 10000), \n",
    "    ]\n",
    "print least salaried employee\n",
    "print highest salaried employee\n",
    "print Maths employees\n",
    "sorting based on employees salaries\n",
    "Print employees whose name starts with A\n",
    "Print employees whose salary is in range of 20000 to 30000 (inclusive).\n",
    "print even id Employees\n",
    "----------MORE TASKS---------\n",
    "count number of maths employees\n",
    "count number of vowels in each employee name\n",
    "reverse the characters in subjects and print only subjects\n",
    "print the (name in lowercase, subject in uppercase)\n",
    "Generate user id for each user by concatenating name and id (eg:- Nick_1235)\n",
    "\"\"\""
   ]
  }
 ],
 "metadata": {
  "kernelspec": {
   "display_name": "Python 3",
   "language": "python",
   "name": "python3"
  },
  "language_info": {
   "codemirror_mode": {
    "name": "ipython",
    "version": 3
   },
   "file_extension": ".py",
   "mimetype": "text/x-python",
   "name": "python",
   "nbconvert_exporter": "python",
   "pygments_lexer": "ipython3",
   "version": "3.12.4"
  }
 },
 "nbformat": 4,
 "nbformat_minor": 2
}
