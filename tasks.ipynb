{
 "cells": [
  {
   "cell_type": "code",
   "execution_count": null,
   "metadata": {},
   "outputs": [],
   "source": [
    "# Task1\n",
    "\"\"\"\n",
    "Task: Format and Analyze a Sentence\n",
    "Description: Given a sentence, perform the following operations:\n",
    "\n",
    "- Convert the entire sentence to uppercase.\n",
    "- Count the number of occurrences of the letter 'E'.\n",
    "- Replace all occurrences of the word \"bad\" with \"good\".\n",
    "- Capitalize the first letter of each word.\n",
    "- Find the length of the modified sentence.\n",
    "- Extract a substring from the modified sentence, Get the first 10 characters.\n",
    "\n",
    "Sample Input:\n",
    "-------------\n",
    "sentence = \"This is a bad example of a bad situation.\"\n",
    "\n",
    "Sample Output:\n",
    "--------------\n",
    "Uppercase: THIS IS A BAD EXAMPLE OF A BAD SITUATION.\n",
    "Occurrences of 'E': 3\n",
    "Replaced: This is a good example of a good situation.\n",
    "Capitalized: This Is A Good Example Of A Good Situation.\n",
    "Length: 42\n",
    "Sliced Substring: This is a \n",
    "\"\"\""
   ]
  }
 ],
 "metadata": {
  "language_info": {
   "name": "python"
  }
 },
 "nbformat": 4,
 "nbformat_minor": 2
}
