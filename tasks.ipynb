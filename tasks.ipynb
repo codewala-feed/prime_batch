{
 "cells": [
  {
   "cell_type": "code",
   "execution_count": 5,
   "metadata": {},
   "outputs": [
    {
     "name": "stdout",
     "output_type": "stream",
     "text": [
      "Uppercase: THIS IS A BAD EXAMPLE OF A BAD SITUATION.\n",
      "Occurences of 'E': 2\n",
      "Replaced: This is a good example of a good situation.\n",
      "Length: 43\n",
      "Sliced Substring: This is a \n"
     ]
    }
   ],
   "source": [
    "# Task1\n",
    "\"\"\"\n",
    "Task: Format and Analyze a Sentence\n",
    "Description: Given a sentence, perform the following operations:\n",
    "\n",
    "- Convert the entire sentence to uppercase.\n",
    "- Count the number of occurrences of the letter 'E'.\n",
    "- Replace all occurrences of the word \"bad\" with \"good\".\n",
    "- Capitalize the first letter of each word.\n",
    "- Find the length of the modified sentence.\n",
    "- Extract a substring from the modified sentence, Get the first 10 characters.\n",
    "\n",
    "Sample Input:\n",
    "-------------\n",
    "sentence = \"This is a bad example of a bad situation.\"\n",
    "\n",
    "Sample Output:\n",
    "--------------\n",
    "Uppercase: THIS IS A BAD EXAMPLE OF A BAD SITUATION.\n",
    "Occurrences of 'E': 2\n",
    "Replaced: This is a good example of a good situation.\n",
    "Capitalized: This Is A Good Example Of A Good Situation.\n",
    "Length: 43\n",
    "Sliced Substring: This is a \n",
    "\"\"\"\n",
    "\n",
    "sentence = \"This is a bad example of a bad situation.\"\n",
    "sentence1 = sentence.upper()\n",
    "print(f\"Uppercase: {sentence1}\")\n",
    "print(f\"Occurences of 'E': {sentence1.count('E')}\")\n",
    "\n",
    "sentence = sentence.replace(\"bad\", \"good\")\n",
    "print(f\"Replaced: {sentence}\")\n",
    "print(f\"Length: {len(sentence)}\")\n",
    "print(f\"Sliced Substring: {sentence[:10]}\")"
   ]
  },
  {
   "cell_type": "code",
   "execution_count": 15,
   "metadata": {},
   "outputs": [
    {
     "name": "stdout",
     "output_type": "stream",
     "text": [
      "\n",
      "steeverogers ---- steeveroXX\n",
      "steeverogers ---- steeveroXX\n"
     ]
    }
   ],
   "source": [
    "\"\"\" \n",
    "TASK: Get the username from the user and generate the userid\n",
    "For Memory Issues, Limit the userid to length 10 with following conditions\n",
    "  - if the length of userid is less than 10, then cover it with 0 at prefix\n",
    "  - if length of userid exceeds 10, then remove the extra characters\n",
    "\n",
    "For the security reasons, we had to mask the user id with following:\n",
    "  replace the last two characters with 'X'\n",
    "Print the userid along with masked userid\n",
    "\n",
    "Sample Input1:\n",
    "  nick\n",
    "Sample Output1:\n",
    "  000000nick ---- 000000niXX\n",
    "\n",
    "Sample Input2:\n",
    "  codewala\n",
    "Sample Output2:\n",
    "  00codewala ---- 00codewaXX\n",
    "\n",
    "Sample Input3:\n",
    "  SteeveRogers\n",
    "Sample Output3:\n",
    "  SteeveRoge ---- SteeveRoXX\n",
    "\n",
    "\"\"\"\n",
    "print()\n",
    "name = \"steeverogers\"\n",
    "n = (10 - len(name))\n",
    "userid = (n*\"0\") + name\n",
    "masked = userid[:8]+\"XX\"\n",
    "# print(userid, userid[:8]+\"XX\")\n",
    "print(f\"{userid} ---- {masked}\")\n",
    "\n",
    "name = \"steeverogers\"\n",
    "userid = ((10 - len(name))*\"0\") + name\n",
    "print(f\"{userid} ---- {userid[:8]+\"XX\"}\")"
   ]
  },
  {
   "cell_type": "code",
   "execution_count": 12,
   "metadata": {},
   "outputs": [
    {
     "name": "stdout",
     "output_type": "stream",
     "text": [
      "\n"
     ]
    }
   ],
   "source": [
    "\"\"\" \n",
    "TASK: Take email as an input from user, than can contain \n",
    "      lower, upper, numbers and domains like @gmail.com, @hotmail.com, @yahoo.com\n",
    "    After separating the domain,\n",
    "      print the domainless lowercase name and count the number of vowels in the email.\n",
    "\n",
    "      Your code should work for all the mails, irrespective of the domain.\n",
    "      NOTE: No invalid email should be taken\n",
    "\n",
    "Sample Input1:\n",
    "  NIck@gmail.com\n",
    "Sample Output1:\n",
    "  nick ---- 1\n",
    "\n",
    "Sample Input2:\n",
    "  coDEwala@yahoo.com\n",
    "Sample Output2:\n",
    "  codewala ---- 4\n",
    "\n",
    "Sample Input3:\n",
    "  SteeveRogers123@hotmail.com\n",
    "Sample Output3:\n",
    "  steeverogers123 ---- 5\n",
    "\n",
    "\"\"\"\n",
    "print()"
   ]
  }
 ],
 "metadata": {
  "kernelspec": {
   "display_name": "Python 3",
   "language": "python",
   "name": "python3"
  },
  "language_info": {
   "codemirror_mode": {
    "name": "ipython",
    "version": 3
   },
   "file_extension": ".py",
   "mimetype": "text/x-python",
   "name": "python",
   "nbconvert_exporter": "python",
   "pygments_lexer": "ipython3",
   "version": "3.12.4"
  }
 },
 "nbformat": 4,
 "nbformat_minor": 2
}
