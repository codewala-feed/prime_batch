{
 "cells": [
  {
   "cell_type": "code",
   "execution_count": null,
   "metadata": {},
   "outputs": [],
   "source": [
    "# variables\n",
    "a = 10\n",
    "A = 10\n",
    "my_variable = 20\n",
    "myVariable = 20\n",
    "myVariable1 = 20\n",
    "\n",
    "# keywords and spaces are not allowed\n",
    "# numbers should not be in first"
   ]
  },
  {
   "cell_type": "code",
   "execution_count": null,
   "metadata": {},
   "outputs": [
    {
     "name": "stdout",
     "output_type": "stream",
     "text": [
      "['False', 'None', 'True', 'and', 'as', 'assert', 'async', 'await', 'break', 'class', 'continue', 'def', 'del', 'elif', 'else', 'except', 'finally', 'for', 'from', 'global', 'if', 'import', 'in', 'is', 'lambda', 'nonlocal', 'not', 'or', 'pass', 'raise', 'return', 'try', 'while', 'with', 'yield']\n",
      "35\n"
     ]
    }
   ],
   "source": [
    "# seeing the keywords\n",
    "\"\"\" \n",
    "Keywords are not allowed as a variable, to see all the variables\n",
    "we can use below code\n",
    "\"\"\"\n",
    "import  keyword\n",
    "output = keyword.kwlist\n",
    "print(output)\n",
    "print(len(output))"
   ]
  },
  {
   "cell_type": "code",
   "execution_count": null,
   "metadata": {},
   "outputs": [],
   "source": [
    "\"\"\"\n",
    " Data types -> primitive, composite\n",
    " primitive ----> int 10, str \"maaz\", float 30.1, bool True, False\n",
    " composite ----> list [1, 2], tuple (1, 2), \n",
    "                 set {1, 2}, dict {'name':'akash'},\n",
    "                 frozenset frozentset({1, 2})\n",
    "\"\"\"\n",
    "\n",
    "# output --> print()\n",
    "# input \n",
    "name = input()\n",
    "print(name)"
   ]
  },
  {
   "cell_type": "code",
   "execution_count": 4,
   "metadata": {},
   "outputs": [
    {
     "name": "stdout",
     "output_type": "stream",
     "text": [
      "Hey nick, Happy Coding\n"
     ]
    }
   ],
   "source": [
    "name = input(\"Enter Name: \")\n",
    "print(f\"Hey {name}, Happy Coding\")"
   ]
  },
  {
   "cell_type": "code",
   "execution_count": 5,
   "metadata": {},
   "outputs": [
    {
     "name": "stdout",
     "output_type": "stream",
     "text": [
      "<class 'int'>\n",
      "int->str==== 30 <class 'str'>\n",
      "int->float==== 30.0 <class 'float'>\n",
      "float->int==== 40 <class 'int'>\n",
      "str->int==== 123 <class 'int'>\n",
      "str->float==== 123.9 <class 'float'>\n",
      "str->int==== 123 <class 'int'>\n",
      "str->bool=== True <class 'bool'>\n"
     ]
    }
   ],
   "source": [
    "# type conversions\n",
    "\"\"\" \n",
    "- we can convert any data type into str\n",
    "\"\"\"\n",
    "\n",
    "num = (20)\n",
    "print(type(num))\n",
    "\n",
    "# int -> str\n",
    "num = 30 #int\n",
    "num = str(30) #str\n",
    "print(\"int->str====\", num, type(num))\n",
    "\n",
    "\n",
    "# int -> float\n",
    "num = 30 #int\n",
    "num = float(30) #str\n",
    "print(\"int->float====\", num, type(num))\n",
    "\n",
    "num = 40.99999\n",
    "num = int(num)\n",
    "print(\"float->int====\", num, type(num))\n",
    "\n",
    "\n",
    "num = \"123\"\n",
    "num = int(num)\n",
    "print(\"str->int====\", num, type(num))\n",
    "\n",
    "num = \"123.9\"\n",
    "num = float(num)\n",
    "print(\"str->float====\", num, type(num))\n",
    "\n",
    "num = \"123.9\"\n",
    "num = float(num)\n",
    "num = int(num)\n",
    "print(\"str->int====\", num, type(num))\n",
    "\n",
    "# non-zeroes or non-empty -------> True\n",
    "# zeroes or empty -------> False\n",
    "value = \"temp\"\n",
    "value = bool(value)\n",
    "print(\"str->bool===\", value, type(value))\n"
   ]
  },
  {
   "cell_type": "code",
   "execution_count": 6,
   "metadata": {},
   "outputs": [
    {
     "name": "stdout",
     "output_type": "stream",
     "text": [
      "list->tuple==== (1, 2, 3, 3) <class 'tuple'>\n",
      "list->set==== {1, 2, 3} <class 'set'>\n",
      "list->dict==== {'name': 'srikanth', 'course': 'python'} <class 'dict'>\n"
     ]
    }
   ],
   "source": [
    "# composite type conversions\n",
    "arr = [1, 2, 3, 3]\n",
    "arr_tuple = tuple(arr)\n",
    "print(\"list->tuple====\", arr_tuple, type(arr_tuple))\n",
    "\n",
    "arr_set = set(arr)\n",
    "print(\"list->set====\", arr_set, type(arr_set))\n",
    "\n",
    "temp = [(\"name\",\"srikanth\"), [\"course\", \"python\"]]\n",
    "arr_dict = dict(temp)\n",
    "print(\"list->dict====\", arr_dict, type(arr_dict))\n"
   ]
  },
  {
   "cell_type": "code",
   "execution_count": 7,
   "metadata": {},
   "outputs": [
    {
     "name": "stdout",
     "output_type": "stream",
     "text": [
      "Address Before Changes: 2238105566352\n",
      "Address After Changes: 2238203011056\n"
     ]
    }
   ],
   "source": [
    "# memory model\n",
    "\"\"\" \n",
    "mutable ---> changeble & before and after changes, address should be same\n",
    "immutable ---> unchangeble & before and after changes, address may be change\n",
    "\"\"\"\n",
    "\n",
    "\n",
    "name = \"python\"\n",
    "print(f\"Address Before Changes: {id(name)}\")\n",
    "\n",
    "name += \"crt\"\n",
    "print(f\"Address After Changes: {id(name)}\")\n"
   ]
  },
  {
   "cell_type": "code",
   "execution_count": 8,
   "metadata": {},
   "outputs": [
    {
     "name": "stdout",
     "output_type": "stream",
     "text": [
      "False\n",
      "True\n",
      "True\n",
      "False\n",
      "True\n",
      "=====================================\n",
      "True\n",
      "True\n"
     ]
    }
   ],
   "source": [
    "\"\"\" \n",
    "operators\n",
    "  Arithematic ---> +, -, *, /, //, %, **\n",
    "  Short hand assignment ---> +=, -=, *=, /=, //=, %=, **=\n",
    "  Relational ---> <=, >=, ==, !=\n",
    "  Logical    ----> and, or\n",
    "  MemberShip ----> in, not in\n",
    "  Identity   ----> is, is not (based on id)\n",
    "\"\"\"\n",
    "num = 30\n",
    "num += 5 # num = num + 5\n",
    "num *= 5 # num = num * 5\n",
    "num /= 5 # num = num / 5\n",
    "\n",
    "# should be greater than 20 and even number\n",
    "num = 4\n",
    "print((num>20) and (num%2==0))\n",
    "print((num>20) or (num%2==0))\n",
    "\n",
    "# in, not in\n",
    "print(\"code\" in \"codewala\")\n",
    "print(\"code\" in \"Codewala\")\n",
    "print(\"code\" not in \"Codewala\")\n",
    "\n",
    "print(\"=====================================\")\n",
    "# identity operators\n",
    "a = -3\n",
    "b = -3\n",
    "# object pooling range (-6, +256)\n",
    "print(a==b)\n",
    "print(a is b)"
   ]
  },
  {
   "cell_type": "code",
   "execution_count": 9,
   "metadata": {},
   "outputs": [
    {
     "name": "stdout",
     "output_type": "stream",
     "text": [
      "Positive a\n",
      "Negative a\n"
     ]
    }
   ],
   "source": [
    "a = \"\"\" \n",
    "strings \n",
    "- Representation (single, double, triple) \n",
    "\"\"\"\n",
    "a = \"venkat\"\n",
    "b = 'chandu'\n",
    "c =  \"\"\"prasad\"\"\"\n",
    "d = '''balaji'''\n",
    "\n",
    "\n",
    "\"\"\"\n",
    "indexing\n",
    "     \"python\"\n",
    "      012345\n",
    "     -6-5-4-3-2-1\n",
    " \"\"\"\n",
    "print(f\"Positive {b[2]}\")\n",
    "print(f\"Negative {b[-4]}\")"
   ]
  },
  {
   "cell_type": "code",
   "execution_count": 10,
   "metadata": {},
   "outputs": [
    {
     "name": "stdout",
     "output_type": "stream",
     "text": [
      "python's\n",
      "python\\'s\n"
     ]
    }
   ],
   "source": [
    "# quote character and \\ in string\n",
    "print('python\\'s')\n",
    "print('python\\\\\\'s')"
   ]
  },
  {
   "cell_type": "code",
   "execution_count": 11,
   "metadata": {},
   "outputs": [
    {
     "name": "stdout",
     "output_type": "stream",
     "text": [
      "This is python prime batch\n"
     ]
    }
   ],
   "source": [
    "# multi line string(using \\,\"\"\")\n",
    "sentence = 'This \\\n",
    "is python \\\n",
    "prime batch'\n",
    "print(sentence)"
   ]
  },
  {
   "cell_type": "code",
   "execution_count": 12,
   "metadata": {},
   "outputs": [
    {
     "name": "stdout",
     "output_type": "stream",
     "text": [
      "John_1002\n",
      ", किसी भी प्रकार की नई \n"
     ]
    }
   ],
   "source": [
    "# concatenation\n",
    "name = \"john\"\n",
    "_id = 1002\n",
    "password = name + \"_\" + str(_id)\n",
    "\n",
    "print(password.capitalize())\n",
    "\n",
    "news = \"తాజా వార్తలు మరియు బ్రేకింగ్ న్యూస్ ఆంధ్రప్రదేశ్, తెలంగాణ, రాజకీయాలు, జాతీయం, రాష్ట్రం, ప్రపంచం, అంతర్జాతీయం,టీవీ, సినిమా, క్రీడలు, వ్యాపారం,\"\n",
    "sans = \"किसी भी प्रकार की नई \"\n",
    "print(news[-1], sans)"
   ]
  },
  {
   "cell_type": "code",
   "execution_count": 13,
   "metadata": {},
   "outputs": [
    {
     "name": "stdout",
     "output_type": "stream",
     "text": [
      "Th\n",
      "Th\n",
      "=======positive slicing========\n",
      "Ti\n",
      "This is python code\n",
      "This is python code\n",
      "Ti spto oe\n",
      "=======negative slicing========\n",
      "cd\n",
      "edoc nohtyp si sihT\n",
      "python\n",
      "This is python code\n",
      "This is python code\n"
     ]
    }
   ],
   "source": [
    "# slicing\n",
    "sentence = \"This is python code\"\n",
    "print(sentence[0] + sentence[1])\n",
    "print(f\"{sentence[0]}{sentence[1]}\")\n",
    "\"\"\" \n",
    "syntax --> var[start:stop:step]\n",
    "syntax --> var[start:stop]\n",
    "\"\"\"\n",
    "print(\"=======positive slicing========\")\n",
    "print(sentence[0:4:2])\n",
    "print(sentence[0:])\n",
    "print(sentence[:])\n",
    "print(sentence[0:len(sentence):2])\n",
    "\n",
    "print(\"=======negative slicing========\")\n",
    "print(sentence[-4::2])\n",
    "print(sentence[-1::-1])\n",
    "print(sentence[-11:-5])\n",
    "print(sentence[::])\n",
    "print(sentence[:])\n"
   ]
  },
  {
   "cell_type": "code",
   "execution_count": 14,
   "metadata": {},
   "outputs": [
    {
     "name": "stdout",
     "output_type": "stream",
     "text": [
      "3\n"
     ]
    }
   ],
   "source": [
    "# string functions\n",
    "word = \" pyt hon dg e ger g \"\n",
    "word = word.lower()\n",
    "word = word.upper()\n",
    "word = word.lower()\n",
    "word = word.capitalize()\n",
    "word = word.replace(\" \", \"\")\n",
    "word = word.count(\"g\")\n",
    "# word = word.replace(\" \", \"\")\n",
    "print(word)"
   ]
  },
  {
   "cell_type": "code",
   "execution_count": 15,
   "metadata": {},
   "outputs": [
    {
     "name": "stdout",
     "output_type": "stream",
     "text": [
      "['This', 'is', 'pYthon', 'class', 'daY', '3']\n",
      "\n"
     ]
    }
   ],
   "source": [
    "word = \"   this  is    python   class day 3  \"\n",
    "word = word.strip()\n",
    "word = word.capitalize()\n",
    "word = word.split()\n",
    "word = \"-\".join(word)\n",
    "word = word.replace(\"y\", \"Y\")\n",
    "word = word.split(\"-\")\n",
    "print(word)\n",
    "\n",
    "\n",
    "\"\"\"\n",
    "Expected Output: \n",
    "--------------------\n",
    "This-is-pYthon-class-daY-3\n",
    "\"\"\"\n",
    "print()"
   ]
  },
  {
   "cell_type": "code",
   "execution_count": 16,
   "metadata": {},
   "outputs": [
    {
     "name": "stdout",
     "output_type": "stream",
     "text": [
      "-1\n"
     ]
    }
   ],
   "source": [
    "# index vs find\n",
    "\n",
    "sentence = \"this is zkdgber ger grt zach salvatore\"\n",
    "# print(sentence.index(\"j\"))\n",
    "# print(sentence.rfind(\"z\"))\n",
    "print(sentence.find(\"j\"))\n"
   ]
  },
  {
   "cell_type": "code",
   "execution_count": 17,
   "metadata": {},
   "outputs": [
    {
     "name": "stdout",
     "output_type": "stream",
     "text": [
      "False\n",
      "False\n",
      "False\n",
      "True\n",
      "False\n",
      "True\n"
     ]
    }
   ],
   "source": [
    "sentence = \"steewefrgkj@nrjkrhtgrejkrhrve@ gmail.com\"\n",
    "print(sentence[sentence.rfind(\"@\"):] == \"@gmail.com\")\n",
    "\n",
    "print(sentence.startswith(\"T\"))\n",
    "print(sentence.endswith(\"@gmail.com\"))\n",
    "\n",
    "sentence = \"1223\"\n",
    "print(sentence.isalnum())\n",
    "print(sentence.isalpha())\n",
    "print(sentence.isdigit())\n"
   ]
  },
  {
   "cell_type": "code",
   "execution_count": 18,
   "metadata": {},
   "outputs": [
    {
     "name": "stdout",
     "output_type": "stream",
     "text": [
      "0\n",
      "1\n",
      "2\n",
      "3\n",
      "4\n",
      "5\n",
      "6\n",
      "7\n",
      "8\n",
      "9\n",
      "========================================\n",
      "s\n",
      "t\n",
      "e\n",
      "e\n",
      "v\n",
      "e\n",
      "r\n",
      "o\n",
      "g\n",
      "e\n",
      "r\n",
      "s\n",
      "steeverogers\n"
     ]
    }
   ],
   "source": [
    "\"\"\"\n",
    "control structures\n",
    "looping ----> for, while, for-else, while-else\n",
    "conditional ---> if, else, nested if-else\n",
    "unconditional ---> pass, break, continue\n",
    "\"\"\"\n",
    "# looping\n",
    "for steeve in range(0,10):\n",
    "    print(steeve)\n",
    "\n",
    "print(\"========================================\")\n",
    "name = (\"steeverogers\")\n",
    "for steeve in range(0,len(name)):\n",
    "    print(name[steeve])\n",
    "\n",
    "name = (\"steeverogers\",)\n",
    "for steeve in range(0,len(name)):\n",
    "    print(name[steeve])"
   ]
  },
  {
   "cell_type": "code",
   "execution_count": 19,
   "metadata": {},
   "outputs": [
    {
     "name": "stdout",
     "output_type": "stream",
     "text": [
      "Output: 10\n",
      "Output: 20\n",
      "Output: 30\n",
      "Output: -4\n",
      "Output: 10\n"
     ]
    }
   ],
   "source": [
    "\"\"\" \n",
    "take 5 inputs from user\n",
    "after each input, print if input length is below or equal to 5, else print invalid\n",
    "\"\"\"\n",
    "for num in range(1, 6):\n",
    "    name = input(f\"Enter Input-{num} :\")\n",
    "    if len(name) <= 5:\n",
    "        print(f\"Output: {name}\")\n",
    "    else:\n",
    "        break"
   ]
  },
  {
   "cell_type": "code",
   "execution_count": 20,
   "metadata": {},
   "outputs": [
    {
     "name": "stdout",
     "output_type": "stream",
     "text": [
      "Valid Input\n",
      "Valid Input\n",
      "Invalid\n"
     ]
    }
   ],
   "source": [
    "for i in range(5):\n",
    "    data = int(input(\"Enter Number: \"))\n",
    "    if data <= 100:\n",
    "        print(\"Valid Input\")\n",
    "else:\n",
    "    print(\"Invalid\")"
   ]
  },
  {
   "cell_type": "code",
   "execution_count": 21,
   "metadata": {},
   "outputs": [
    {
     "name": "stdout",
     "output_type": "stream",
     "text": [
      "p 0\n",
      "y 1\n",
      "t 2\n",
      "h 3\n",
      "o 4\n",
      "n 5\n",
      "===================================\n",
      "n 5\n",
      "o 4\n",
      "h 3\n",
      "t 2\n",
      "y 1\n",
      "p 0\n"
     ]
    }
   ],
   "source": [
    "# while loop\n",
    "name = \"python\"\n",
    "current = 0\n",
    "while current < len(name):\n",
    "    print(name[current], current)\n",
    "    current += 1\n",
    "print(\"===================================\")\n",
    "name = \"python\"\n",
    "current = len(name)-1\n",
    "while current >= 0:\n",
    "    print(name[current], current)\n",
    "    current -= 1"
   ]
  },
  {
   "cell_type": "code",
   "execution_count": 22,
   "metadata": {},
   "outputs": [
    {
     "name": "stdout",
     "output_type": "stream",
     "text": [
      "Negatives Entered, Terminating Entire Loop\n",
      "============================================\n",
      "No Negative values Entered\n"
     ]
    }
   ],
   "source": [
    "# for-else\n",
    "for i in range(5):\n",
    "    data = int(input(\"Enter Number: \"))\n",
    "    if data < 0:\n",
    "        print(\"Negatives Entered, Terminating Entire Loop\")\n",
    "        break\n",
    "else:\n",
    "    print(\"No Negative values Entered\")\n",
    "\n",
    "print(\"============================================\")\n",
    "\n",
    "# while-else\n",
    "start = 0\n",
    "while start < 5:\n",
    "    data = int(input(\"Enter Number: \"))\n",
    "    if data < 0:\n",
    "        print(\"Negatives Entered, Terminating Entire Loop\")\n",
    "        break\n",
    "    start += 1\n",
    "else:\n",
    "    print(\"No Negative values Entered\")"
   ]
  },
  {
   "cell_type": "code",
   "execution_count": 23,
   "metadata": {},
   "outputs": [
    {
     "name": "stdout",
     "output_type": "stream",
     "text": [
      "After initializing names: []\n",
      "\n",
      "After appending 'akash': ['akash']\n",
      "\n",
      "After appending 'sri vidhya': ['akash', 'sri vidhya']\n",
      "\n",
      "After inserting 'gayatri' at index 1: ['akash', 'gayatri', 'sri vidhya']\n",
      "\n",
      "After popping last element 'sri vidhya': ['akash', 'gayatri']\n",
      "\n",
      "After appending popped element 'sri vidhya': ['akash', 'gayatri', 'sri vidhya']\n",
      "\n",
      "After removing 'akash': ['gayatri', 'sri vidhya']\n",
      "\n",
      "After inserting 'mouneesh' at index 2: ['gayatri', 'sri vidhya', 'mouneesh']\n",
      "\n",
      "Last two elements: ['sri vidhya', 'mouneesh']\n",
      "\n",
      "'sudhir' in names: False\n",
      "\n",
      "After converting index 2 to uppercase: ['gayatri', 'sri vidhya', 'MOUNEESH']\n",
      "\n",
      "After extending with ['sudhir']: ['gayatri', 'sri vidhya', 'MOUNEESH', 'sudhir']\n",
      "\n",
      "After appending ['srinu', 'anil', 'sudhir']: ['gayatri', 'sri vidhya', 'MOUNEESH', 'sudhir', ['srinu', 'anil', 'sudhir']]\n",
      "\n",
      "After popping the last list: ['gayatri', 'sri vidhya', 'MOUNEESH', 'sudhir']\n",
      "\n",
      "After concatenating names & req: ['gayatri', 'sri vidhya', 'MOUNEESH', 'sudhir', 'srinu', 'anil', 'sudhir']\n",
      "\n",
      "List created with [0, 1]*5: [0, 1, 0, 1, 0, 1, 0, 1, 0, 1]\n",
      "\n",
      "Descending Order: ['sudhir', 'sudhir', 'srinu', 'sri vidhya', 'gayatri', 'anil', 'MOUNEESH']\n",
      "\n",
      "Ascending Order: ['MOUNEESH', 'anil', 'gayatri', 'sri vidhya', 'srinu', 'sudhir', 'sudhir']\n",
      "\n",
      "Sum of [1, 2, 3, 4]: 10\n",
      "\n",
      "List created from tuple: ['CodeWala']\n",
      "\n",
      "Remaining elements after unpacking bio: ['steeve', 'brooklyn']\n"
     ]
    }
   ],
   "source": [
    "# list [], ordered, mutable\n",
    "names = []\n",
    "print(f\"After initializing names: {names}\\n\")\n",
    "\n",
    "names.append(\"akash\")\n",
    "print(f\"After appending 'akash': {names}\\n\")\n",
    "\n",
    "names.append(\"sri vidhya\")\n",
    "print(f\"After appending 'sri vidhya': {names}\\n\")\n",
    "\n",
    "names.insert(1, \"gayatri\")\n",
    "print(f\"After inserting 'gayatri' at index 1: {names}\\n\")\n",
    "\n",
    "deleted_name = names.pop()  # you can store popped element\n",
    "print(f\"After popping last element '{deleted_name}': {names}\\n\")\n",
    "\n",
    "names.append(deleted_name)\n",
    "print(f\"After appending popped element '{deleted_name}': {names}\\n\")\n",
    "\n",
    "names.remove(\"akash\")\n",
    "print(f\"After removing 'akash': {names}\\n\")\n",
    "\n",
    "\n",
    "names.insert(2, \"mouneesh\")\n",
    "print(f\"After inserting 'mouneesh' at index 2: {names}\\n\")\n",
    "\n",
    "print(f\"Last two elements: {names[-2:]}\\n\")\n",
    "\n",
    "print(f\"'sudhir' in names: {'sudhir' in names}\\n\")\n",
    "\n",
    "names[2] = names[2].upper()\n",
    "print(f\"After converting index 2 to uppercase: {names}\\n\")\n",
    "\n",
    "names.extend([\"sudhir\"])\n",
    "print(f\"After extending with ['sudhir']: {names}\\n\")\n",
    "\n",
    "names.append(['srinu', 'anil', 'sudhir'])\n",
    "print(f\"After appending ['srinu', 'anil', 'sudhir']: {names}\\n\")\n",
    "\n",
    "req = names[-1]\n",
    "names.pop()\n",
    "print(f\"After popping the last list: {names}\\n\")\n",
    "\n",
    "names = names + req \n",
    "print(f\"After concatenating names & req: {names}\\n\")\n",
    "\n",
    "print(f\"List created with [0, 1]*5: {[0, 1]*5}\\n\")\n",
    "\n",
    "names.sort(reverse=True)\n",
    "print(f\"Descending Order: {names}\\n\")\n",
    "\n",
    "names.sort()\n",
    "print(f\"Ascending Order: {names}\\n\")\n",
    "\n",
    "print(f\"Sum of [1, 2, 3, 4]: {sum([1, 2, 3, 4])}\\n\")\n",
    "\n",
    "name = (\"CodeWala\",)\n",
    "print(f\"List created from tuple: {list(name)}\\n\")\n",
    "\n",
    "bio = [\"1001\", \"steeve\", \"brooklyn\"]\n",
    "_id, *rest = bio\n",
    "print(f\"Remaining elements after unpacking bio: {rest}\")\n"
   ]
  },
  {
   "cell_type": "code",
   "execution_count": 24,
   "metadata": {},
   "outputs": [
    {
     "name": "stdout",
     "output_type": "stream",
     "text": [
      "h\n",
      "e\n",
      "l\n",
      "l\n",
      "o\n",
      "Each letter in 'hello' is printed one by one.\n",
      "\n",
      "0 h\n",
      "1 e\n",
      "2 l\n",
      "3 l\n",
      "4 o\n",
      "Each letter in 'hello' is printed with its index.\n",
      "\n",
      "List sorted in reverse order without storing : [5, 4, 3, 2, 1]\n",
      "List sorted in ascending order with storing: [1, 2, 3, 4, 5]\n",
      "\n",
      "[[1, 2, 3] == [1, 2, 3]] -> True\n",
      "[[1, 2, 3] is [1, 2, 3]] -> False\n",
      "nums1 after appending 5 through nums2: [1, 2, 3, 4, 5]\n",
      "nums1 after appending 6 to a copy: [1, 2, 3, 4, 5]\n",
      "The salary of pepper is 10000.\n"
     ]
    }
   ],
   "source": [
    "name = \"hello\"\n",
    "for letter in range(len(name)):\n",
    "    print(name[letter])\n",
    "print(f\"Each letter in 'hello' is printed one by one.\\n\")\n",
    "\n",
    "for idx, letter in enumerate(name):\n",
    "    print(idx, letter)\n",
    "print(f\"Each letter in 'hello' is printed with its index.\\n\")\n",
    "\n",
    "nums = [2, 1, 4, 3, 5]\n",
    "nums.sort(reverse=True)\n",
    "print(f\"List sorted in reverse order without storing : {nums}\")\n",
    "\n",
    "nums = sorted(nums)\n",
    "print(f\"List sorted in ascending order with storing: {nums}\\n\")\n",
    "\n",
    "arr1 = [1, 2, 3]\n",
    "arr2 = [1, 2, 3]\n",
    "print(f\"[{arr1} == {arr2}] -> {arr1 == arr2}\")  # --> True\n",
    "print(f\"[{arr1} is {arr2}] -> {arr1 is arr2}\")  # --> False (because it will compare id's)\n",
    "\n",
    "nums1 = [1, 2, 3, 4]\n",
    "nums2 = nums1 #it is not copying the list, just referencing\n",
    "nums2.append(5)\n",
    "print(f\"nums1 after appending 5 through nums2: {nums1}\")\n",
    "\n",
    "nums3 = nums1.copy() #it is copying the list\n",
    "nums3.append(6)\n",
    "print(f\"nums1 after appending 6 to a copy: {nums1}\")\n",
    "\n",
    "arr = [[1, \"steeve\", 40000], [2, \"tony\", 30000, [3, \"pepper\", 10000]]]\n",
    "print(f\"The salary of {arr[1][3][1]} is {arr[1][3][2]}.\")\n"
   ]
  },
  {
   "cell_type": "code",
   "execution_count": 25,
   "metadata": {},
   "outputs": [
    {
     "name": "stdout",
     "output_type": "stream",
     "text": [
      "2\n"
     ]
    }
   ],
   "source": [
    "# # tuple (), ordered, immutable\n",
    "# arr = (\"code\",1, 1, 2, 3)\n",
    "# print(arr.count(1))\n",
    "# print(arr)\n",
    "\n",
    "data = [(1, \"steeve\", \"nyk\"), (2, \"steeve\", \"nyk\")]\n",
    "steeve_cnt = 0\n",
    "for bio in range(len(data)):\n",
    "    if data[bio][1] == \"steeve\":\n",
    "        steeve_cnt += 1\n",
    "print(steeve_cnt)"
   ]
  },
  {
   "cell_type": "code",
   "execution_count": 26,
   "metadata": {},
   "outputs": [
    {
     "name": "stdout",
     "output_type": "stream",
     "text": [
      "1\n",
      "2\n"
     ]
    }
   ],
   "source": [
    "data = [(1, \"steeve\", \"nyk\"), (2, \"tony\", \"nyk\")]\n",
    "for user in range(len(data)):\n",
    "    print(data[user][0]) # (1, 'steeve', 'nyk')"
   ]
  },
  {
   "cell_type": "code",
   "execution_count": 27,
   "metadata": {},
   "outputs": [
    {
     "name": "stdout",
     "output_type": "stream",
     "text": [
      "12 bucky usa 200\n",
      "10 nat uk 4000\n",
      "1 steeve nyk 100000\n",
      "2 tony nyk 50000\n"
     ]
    }
   ],
   "source": [
    "data = [\n",
    "    (1, \"steeve\", \"nyk\", 100000), \n",
    "    (2, \"tony\", \"nyk\", 50000),\n",
    "    (12, \"bucky\", \"usa\", 200),\n",
    "    (10, \"nat\", \"uk\", 4000)\n",
    "\t]\n",
    "data.sort(key=lambda x:x[2], reverse=True)\n",
    "for user in range(len(data)):\n",
    "    print(*data[user])"
   ]
  },
  {
   "cell_type": "code",
   "execution_count": 28,
   "metadata": {},
   "outputs": [
    {
     "name": "stdout",
     "output_type": "stream",
     "text": [
      "[10, 3, 4]\n"
     ]
    }
   ],
   "source": [
    "arr = [1, 2, 3, 4]\n",
    "# arr[1] = 10\n",
    "arr[0:2] = [10]\n",
    "print(arr)"
   ]
  },
  {
   "cell_type": "code",
   "execution_count": 29,
   "metadata": {},
   "outputs": [
    {
     "name": "stdout",
     "output_type": "stream",
     "text": [
      "5 {1, 2, 3, 4, 40}\n"
     ]
    }
   ],
   "source": [
    "# set {}, set(), unordered, mutable\n",
    "arr = {1, 2, 3, 2, 4}\n",
    "arr.add(40)\n",
    "print(len(arr),arr) \n"
   ]
  },
  {
   "cell_type": "code",
   "execution_count": 30,
   "metadata": {},
   "outputs": [
    {
     "name": "stdout",
     "output_type": "stream",
     "text": [
      "{1001: 'id', ('city',): 'nyk', frozenset({'city', 'state'}): ['USA', 'nyk']}\n"
     ]
    }
   ],
   "source": [
    "\"\"\"\n",
    " dictionary -> {}, mutable, unordered, unique\n",
    "--> cannot use mutable data types as key in dictionary\n",
    "--> keys can be any data types\n",
    "--> duplicates are not allowed\n",
    "\"\"\"\n",
    "details = {}\n",
    "details[\"name\"] = \"suresh\"\n",
    "details[1001] = \"id\" \n",
    "details[(\"city\",)] = \"nyk\"\n",
    "details[frozenset({\"city\", \"state\"})] = [\"USA\", \"nyk\"]\n",
    "# print(details[1001])\n",
    "# for key in details:\n",
    "#     print(f\"{key} -> {details[key]}\") \n",
    "\n",
    "# print()\n",
    "\n",
    "# for key, value in details.items():\n",
    "#     print(f\"{key} -> {value}\")\n",
    "\n",
    "details.pop(\"name\")\n",
    "print(details)"
   ]
  },
  {
   "cell_type": "code",
   "execution_count": 31,
   "metadata": {},
   "outputs": [
    {
     "name": "stdout",
     "output_type": "stream",
     "text": [
      "{'name': 'hari', 'age': 'hari'}\n"
     ]
    }
   ],
   "source": [
    "data = {\"name\":\"hari\"}\n",
    "data.update({\"age\":\"hari\"})\n",
    "print(data)"
   ]
  },
  {
   "cell_type": "code",
   "execution_count": 32,
   "metadata": {},
   "outputs": [
    {
     "name": "stdout",
     "output_type": "stream",
     "text": [
      "{'name1': 'nick', 'course1': 'python'}\n",
      "{'course2': 'python'}\n",
      "{'name3': 'nick', 'python': 'course3'}\n"
     ]
    }
   ],
   "source": [
    "temp1 = [(\"name1\", \"nick\"), (\"course1\", \"python\")] # list of tuples\n",
    "temp2 = [[\"course2\", \"python\"]] # list of tuples\n",
    "temp3 = [{\"name3\", \"nick\"}, {\"course3\", \"python\"}] # working, but not suggestable\n",
    "print(dict(temp1))\n",
    "print(dict(temp2))\n",
    "print(dict(temp3))"
   ]
  },
  {
   "cell_type": "code",
   "execution_count": 33,
   "metadata": {},
   "outputs": [
    {
     "name": "stdout",
     "output_type": "stream",
     "text": [
      "Hello Nick, Happy Paypal Banking\n",
      "Hello Rasool, Happy Hdfc Banking\n",
      "Hello Akash, Happy CANARA Banking\n",
      "Hello Anil, Happy ICICI Banking\n",
      "-----------------------------------\n",
      "Hello Dhanjay, Happy Paypal Banking\n",
      "Hello Mouneesh, Happy Hdfc Banking\n",
      "Hello Swaroop, Happy CANARA Banking\n",
      "Hello Varma, Happy ICICI Banking\n",
      "-----------------------------------\n",
      "1\n",
      "2\n",
      "3\n",
      "4\n",
      "5\n",
      "done\n",
      "-----------------------------------\n",
      "1\n",
      "2\n",
      "3\n",
      "4\n",
      "5\n",
      "-----------------------------------\n"
     ]
    }
   ],
   "source": [
    "\"\"\" \n",
    "functions\n",
    "  -return functions\n",
    "  -not return functions\n",
    "  -parameterized functions\n",
    "  \t-positional\n",
    "    -keyword\n",
    "    -default\n",
    "    -*args\n",
    "    -**kwargs(variable keyword arguments)\n",
    "    -passing parameter by unpacking\n",
    "\n",
    "--> To re-use the code\n",
    "--> syntax: \n",
    "\tdef functionName(parameters):\n",
    "\t\tpass\n",
    "--> function will get execute, only when it's called\n",
    "--> if control finds return in function, it will get out of that entire function\n",
    "\"\"\"\n",
    "# non-return function & parameterized function\n",
    "def welcome(name, bank):\n",
    "    print(f\"Hello {name}, Happy {bank} Banking\")\n",
    "\n",
    "welcome(\"Nick\", \"Paypal\")\n",
    "welcome(\"Rasool\", \"Hdfc\")\n",
    "welcome(\"Akash\", \"CANARA\")\n",
    "welcome(\"Anil\", \"ICICI\")\n",
    "\n",
    "print(\"-----------------------------------\")\n",
    "\n",
    "# return function & parameterized function\n",
    "def welcome(name, bank):\n",
    "   return f\"Hello {name}, Happy {bank} Banking\"\n",
    "\n",
    "print(welcome(\"Dhanjay\", \"Paypal\"))\n",
    "print(welcome(\"Mouneesh\", \"Hdfc\"))\n",
    "print(welcome(\"Swaroop\", \"CANARA\"))\n",
    "print(welcome(\"Varma\", \"ICICI\"))\n",
    "\n",
    "print(\"-----------------------------------\")\n",
    "\n",
    "# non-parametrized function & return function\n",
    "def oneToFive():\n",
    "  for i in range(1, 6):\n",
    "    print(i)\n",
    "  return \"done\"\n",
    "\n",
    "print(oneToFive())\n",
    "\n",
    "print(\"-----------------------------------\")\n",
    "\n",
    "# non-parametrized function & non-return function\n",
    "def oneToFive():\n",
    "  for i in range(1, 6):\n",
    "    print(i)\n",
    "\n",
    "oneToFive() \n",
    "\n",
    "print(\"-----------------------------------\")"
   ]
  },
  {
   "cell_type": "code",
   "execution_count": 34,
   "metadata": {},
   "outputs": [
    {
     "name": "stdout",
     "output_type": "stream",
     "text": [
      "Numbers are 10, (20, 30, 40)\n",
      "None\n",
      "Numbers are 30, (40,)\n",
      "{'age': 15, 'name': 'gayathri', 'brother': 'vidhya'}\n",
      "--------------------------------------------\n",
      "{'age': 15, 'name': 'latha', 'brother': 'maaz'}\n",
      "--------------------------------------------\n",
      "100 (200, 300, 400) {'city': 'newJersey', 'age': 15, 'name': 'asma', 'brother': 'rayyan'}\n"
     ]
    }
   ],
   "source": [
    "# *args\n",
    "def numbers(a, *args):\n",
    "    print(f\"Numbers are {a}, {args}\")\n",
    "\n",
    "print(numbers(10, 20, 30, 40))\n",
    "numbers(30, 40)\n",
    "\n",
    "# **kwargs(variable keyword arguments)\n",
    "\n",
    "\"\"\"\n",
    "ORDER:\n",
    "   positional, Default\n",
    "  \t    *args, **kwargs\n",
    "\"\"\"\n",
    "\n",
    "def details(**kwargs):\n",
    "    print(kwargs)\n",
    "\n",
    "details(age=15, name=\"gayathri\", brother=\"vidhya\")\n",
    "\n",
    "print(\"--------------------------------------------\")\n",
    "\n",
    "def details(a, **kwargs):\n",
    "    print(kwargs)\n",
    "\n",
    "details(100, age=15, name=\"latha\", brother=\"maaz\") \n",
    "\n",
    "print(\"--------------------------------------------\")\n",
    "\n",
    "def details(a, *args, **kwargs):\n",
    "    print(a, args, kwargs)\n",
    "\n",
    "details(100, 200, 300, 400, city=\"newJersey\", age=15, name=\"asma\", brother=\"rayyan\") \n"
   ]
  },
  {
   "cell_type": "code",
   "execution_count": 35,
   "metadata": {},
   "outputs": [
    {
     "name": "stdout",
     "output_type": "stream",
     "text": [
      "Colors are red, blue, green\n",
      "Colors are red, green, blue\n",
      "Colors are red, blue, green\n"
     ]
    }
   ],
   "source": [
    "# passing parameters by unpacking\n",
    "clrs = (\"red\", \"blue\", \"green\")\n",
    "\n",
    "def colors(c1, c2, c3):\n",
    "    print(f\"Colors are {c1}, {c2}, {c3}\")\n",
    "\n",
    "colors(clrs[0], clrs[1], clrs[2])\n",
    "colors(clrs[0], clrs[2], clrs[1])\n",
    "colors(*clrs)"
   ]
  },
  {
   "cell_type": "code",
   "execution_count": 36,
   "metadata": {},
   "outputs": [
    {
     "name": "stdout",
     "output_type": "stream",
     "text": [
      "10 20 steeve 123 ong\n",
      "============================\n",
      "100\n",
      "30\n",
      "150\n",
      "============================\n"
     ]
    },
    {
     "data": {
      "text/plain": [
       "210"
      ]
     },
     "execution_count": 36,
     "metadata": {},
     "output_type": "execute_result"
    }
   ],
   "source": [
    "# Examples\n",
    "def details(a, b, name, age, city=\"ong\"):\n",
    "    print(a, b, name, age, city)\n",
    "details(10, 20, age=123, name=\"steeve\")\n",
    "\n",
    "print(\"============================\")\n",
    "\n",
    "def addition(*args):\n",
    "    print(sum(args))\n",
    "addition(10, 20, 30, 40)\n",
    "addition(10, 20)\n",
    "addition(10, 20, 30, 40, 50)\n",
    "\n",
    "print(\"============================\")\n",
    "\n",
    "def addition(n1, n2, *remaining):\n",
    "    return n1 + n2 + sum(remaining)\n",
    "addition(10, 20, 30, 40, 50, 60)"
   ]
  },
  {
   "cell_type": "code",
   "execution_count": 37,
   "metadata": {},
   "outputs": [
    {
     "name": "stdout",
     "output_type": "stream",
     "text": [
      "Hey stefan, Happy Coding\n",
      "Hey damon, Happy Coding\n",
      "Hey stefan, Happy Coding\n",
      "Hey damon, Happy Coding\n",
      "30\n",
      "30\n"
     ]
    }
   ],
   "source": [
    "# lambda  -> anonymous function\n",
    "def wish(name):\n",
    "    return f\"Hey {name}, Happy Coding\"\n",
    "print(wish(\"stefan\"))\n",
    "print(wish(\"damon\"))\n",
    "\n",
    "wishing = lambda name:f\"Hey {name}, Happy Coding\"\n",
    "print(wishing(\"stefan\"))\n",
    "print(wishing(\"damon\"))\n",
    "\n",
    "\n",
    "def addition(n1, n2):\n",
    "    return n1 + n2\n",
    "print(addition(10, 20))\n",
    "\n",
    "addition = lambda n1, n2: n1 + n2\n",
    "print(addition(10, 20))"
   ]
  },
  {
   "cell_type": "code",
   "execution_count": 38,
   "metadata": {},
   "outputs": [
    {
     "name": "stdout",
     "output_type": "stream",
     "text": [
      "caroline\n"
     ]
    }
   ],
   "source": [
    "name = \"elena\"\n",
    "def homepage():\n",
    "    global name\n",
    "    name = \"caroline\"\n",
    "homepage()\n",
    "print(name)"
   ]
  },
  {
   "cell_type": "code",
   "execution_count": 39,
   "metadata": {},
   "outputs": [
    {
     "name": "stdout",
     "output_type": "stream",
     "text": [
      "-1\n",
      "None\n",
      "None\n",
      "None\n",
      "None\n",
      "None\n"
     ]
    }
   ],
   "source": [
    "def sequence(n):\n",
    "    if n < 0:\n",
    "        return n\n",
    "    print(sequence(n-1))\n",
    "sequence(5)"
   ]
  },
  {
   "cell_type": "code",
   "execution_count": 40,
   "metadata": {},
   "outputs": [
    {
     "name": "stdout",
     "output_type": "stream",
     "text": [
      "120\n",
      "120\n"
     ]
    },
    {
     "data": {
      "text/plain": [
       "' \\nn = 5\\n5 * fact(4)\\n     |--4 * fact(3)\\n             |--3 * fact(2)\\n                      |--2 * fact(1) => base case\\n'"
      ]
     },
     "execution_count": 40,
     "metadata": {},
     "output_type": "execute_result"
    }
   ],
   "source": [
    "res = 1\n",
    "for i in range(1, 6):\n",
    "    res = res * i\n",
    "print(res)\n",
    "\n",
    "def fact(n):\n",
    "    if n == 1:\n",
    "        return 1\n",
    "    else:\n",
    "        return n * fact(n-1)\n",
    "print(fact(5))\n",
    "\"\"\" \n",
    "n = 5\n",
    "5 * fact(4)\n",
    "     |--4 * fact(3)\n",
    "             |--3 * fact(2)\n",
    "                      |--2 * fact(1) => base case\n",
    "\"\"\""
   ]
  },
  {
   "cell_type": "code",
   "execution_count": 48,
   "metadata": {},
   "outputs": [
    {
     "name": "stdout",
     "output_type": "stream",
     "text": [
      "3\n",
      " \n",
      "\tn = 4\n",
      "\tfib(3)\n",
      "\t\t|-- fib(2)\n",
      "\t\t\t|-----fib(1)  => base case\n",
      "\t\t\t\t\tfib(0)  => base case\n",
      "\t\t\tfib(1)\n",
      "\tfib(2)\n",
      "\t\t|-- fib(1) => base case\n",
      "\t\t\tfib(0) => base case \n",
      "\t\n"
     ]
    }
   ],
   "source": [
    "def fib(n):\n",
    "    if n == 0:\n",
    "        return 0\n",
    "    if n ==  1:\n",
    "        return 1\n",
    "    else:\n",
    "        return fib(n-1) + fib(n-2)\n",
    "print(fib(4))\n",
    "explanation = \"\"\" \n",
    "\tn = 4\n",
    "\tfib(3)\n",
    "\t\t|-- fib(2)\n",
    "\t\t\t|-----fib(1)  => base case\n",
    "\t\t\t\t\tfib(0)  => base case\n",
    "\t\t\tfib(1)\n",
    "\tfib(2)\n",
    "\t\t|-- fib(1) => base case\n",
    "\t\t\tfib(0) => base case \n",
    "\t\"\"\"\n",
    "print(explanation)"
   ]
  },
  {
   "cell_type": "code",
   "execution_count": 42,
   "metadata": {},
   "outputs": [
    {
     "name": "stdout",
     "output_type": "stream",
     "text": [
      "0\n",
      "(0, 1, 2, 3, 4)\n"
     ]
    }
   ],
   "source": [
    "# yield\n",
    "def nums1(n):\n",
    "    for i in range(n):\n",
    "    \treturn i\n",
    "print(nums1(5))\n",
    "\n",
    "def nums2(n):\n",
    "    for i in range(n):\n",
    "    \tyield i\n",
    "print(tuple(nums2(5)))\n"
   ]
  },
  {
   "cell_type": "code",
   "execution_count": 43,
   "metadata": {},
   "outputs": [
    {
     "name": "stdout",
     "output_type": "stream",
     "text": [
      "[1, 2, 3, 4, 5, 6, 7, 8, 9, 10]\n",
      "[1, 2, 3, 4, 5, 6, 7, 8, 9, 10]\n",
      "(1, 2, 3, 4, 5, 6, 7, 8, 9, 10)\n",
      "{1, 2, 3, 4, 5, 6, 7, 8, 9, 10}\n",
      "{1: True, 2: True, 3: True, 4: True, 5: True, 6: True, 7: True, 8: True, 9: True, 10: True}\n"
     ]
    }
   ],
   "source": [
    "\"\"\" \n",
    "-comprehensions\n",
    "  -list comprehension\n",
    "  -tuple comprehension\n",
    "  -set comprehension\n",
    "  -dictionary comprehension\n",
    "\"\"\"\n",
    "arr = []\n",
    "n = 11\n",
    "for i in range(1, n):\n",
    "    arr.append(i)\n",
    "print(arr)\n",
    "\n",
    "print([i for i  in range(1, 11)]) #list comrehension\n",
    "print(tuple(i for i  in range(1, 11))) #tuple comprehension\n",
    "print({i for i in range(1, 11)}) #set comprehension\n",
    "print({i:True  for i in range(1, 11)}) #dictionary comprehension"
   ]
  },
  {
   "cell_type": "code",
   "execution_count": 44,
   "metadata": {},
   "outputs": [
    {
     "name": "stdout",
     "output_type": "stream",
     "text": [
      "[1, 3, 1]\n",
      "[1, 3, 1]\n",
      "[10, 20, 30, 40]\n",
      "[10, 20, 30, 40, 50]\n"
     ]
    }
   ],
   "source": [
    "# map, filter\n",
    "\"\"\" \n",
    "map(do) will store whatever function returns\n",
    "filter will store whenver function returns True\n",
    "\"\"\"\n",
    "arr = [1, 3, -2, 1, -23, -34]\n",
    "\n",
    "\"\"\"separating even numbers with normal code\"\"\"\n",
    "positives = []\n",
    "for i in range(len(arr)):\n",
    "    if arr[i] > 0:\n",
    "        positives.append(arr[i])\n",
    "print(positives)\n",
    "\n",
    "\"\"\"separating even numbers with filter\"\"\"\n",
    "# filter(function, iterable)\n",
    "print(list(filter(lambda x:x>0, arr)))\n",
    "\n",
    "\n",
    "\n",
    "# map (function, iterable)\n",
    "\"\"\"To take space separated int inputs as a list using normal code\"\"\"\n",
    "data = []\n",
    "arr = input(\"Enter nums: \").split()\n",
    "for i in range(len(arr)):\n",
    "    data.append(int(arr[i]))\n",
    "print(data)\n",
    "\n",
    "\"\"\"To take space separated int inputs as a list using map\"\"\"\n",
    "data = list(map(int, input(\"Enter nums: \").split()))\n",
    "print(data)"
   ]
  },
  {
   "cell_type": "code",
   "execution_count": 45,
   "metadata": {},
   "outputs": [
    {
     "name": "stdout",
     "output_type": "stream",
     "text": [
      "[1, 2, 3, 5]\n",
      "[1, 2, 3, 5]\n"
     ]
    }
   ],
   "source": [
    "# filter with named and anonymous functions\n",
    "def isPositive(n):\n",
    "    return n > 0\n",
    "\n",
    "arr = [1, 2, 3, -4, 5, -6]\n",
    "print(list(filter(isPositive, arr)))\n",
    "print(list(filter(lambda x:x>0, arr)))"
   ]
  },
  {
   "cell_type": "code",
   "execution_count": 46,
   "metadata": {},
   "outputs": [
    {
     "name": "stdout",
     "output_type": "stream",
     "text": [
      "[6, 7, 8]\n",
      "[6, 7, 8]\n"
     ]
    }
   ],
   "source": [
    "# map with named and anonymous functions\n",
    "def increase(n):\n",
    "    return n+5\n",
    "\n",
    "arr = [1, 2, 3]\n",
    "print(list(map(increase, arr)))\n",
    "print(list(map(lambda x:x+5, arr)))"
   ]
  },
  {
   "cell_type": "code",
   "execution_count": 50,
   "metadata": {},
   "outputs": [
    {
     "name": "stdout",
     "output_type": "stream",
     "text": [
      "60\n",
      "5\n"
     ]
    }
   ],
   "source": [
    "\"\"\" \n",
    "module --> python file(collection of functions and/or classes)\n",
    "package --> collection of modules(python files) with __init__.py file\n",
    "\"\"\"\n",
    "\n",
    "from maths import add, sub \n",
    "\n",
    "print(add.addition(10, 20, 30))\n",
    "print(sub.subtraction(10, 5))"
   ]
  },
  {
   "cell_type": "code",
   "execution_count": 47,
   "metadata": {},
   "outputs": [
    {
     "name": "stdout",
     "output_type": "stream",
     "text": [
      "Denominator should not be 0\n",
      "ERROR:  division by zero\n",
      "=============================\n",
      "Please enter valid input invalid literal for int() with base 10: 'kjhg'\n",
      "I will execute anyhow\n"
     ]
    }
   ],
   "source": [
    "\"\"\" \n",
    "-Exception Handling\n",
    "  -try (if no error)\n",
    "  -except (if error occurs)\n",
    "  -finally (executes either way)\n",
    "\"\"\"\n",
    "\n",
    "try:\n",
    "    numerator = int(input())\n",
    "    denominator = int(input())\n",
    "    print(numerator/denominator)\n",
    "except Exception as e:\n",
    "    print(\"Denominator should not be 0\")\n",
    "    print(\"ERROR: \", e)\n",
    "\n",
    "print(\"=============================\")\n",
    "\n",
    "try:\n",
    "    num = int(input())\n",
    "    print(num)\n",
    "    \n",
    "except Exception as e:\n",
    "    print(\"Please enter valid input\", e)\n",
    "\n",
    "finally:\n",
    "    print(\"I will execute anyhow\")\n",
    "    "
   ]
  }
 ],
 "metadata": {
  "kernelspec": {
   "display_name": "Python 3",
   "language": "python",
   "name": "python3"
  },
  "language_info": {
   "codemirror_mode": {
    "name": "ipython",
    "version": 3
   },
   "file_extension": ".py",
   "mimetype": "text/x-python",
   "name": "python",
   "nbconvert_exporter": "python",
   "pygments_lexer": "ipython3",
   "version": "3.12.4"
  }
 },
 "nbformat": 4,
 "nbformat_minor": 2
}
