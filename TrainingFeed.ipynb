{
 "cells": [
  {
   "cell_type": "code",
   "execution_count": 3,
   "metadata": {},
   "outputs": [],
   "source": [
    "# variables\n",
    "a = 10\n",
    "A = 10\n",
    "my_variable = 20\n",
    "myVariable = 20\n",
    "myVariable1 = 20\n",
    "\n",
    "# keywords and spaces are not allowed\n",
    "# numbers should not be in first"
   ]
  },
  {
   "cell_type": "code",
   "execution_count": 10,
   "metadata": {},
   "outputs": [
    {
     "name": "stdout",
     "output_type": "stream",
     "text": [
      "['False', 'None', 'True', 'and', 'as', 'assert', 'async', 'await', 'break', 'class', 'continue', 'def', 'del', 'elif', 'else', 'except', 'finally', 'for', 'from', 'global', 'if', 'import', 'in', 'is', 'lambda', 'nonlocal', 'not', 'or', 'pass', 'raise', 'return', 'try', 'while', 'with', 'yield']\n",
      "35\n"
     ]
    }
   ],
   "source": [
    "# seeing the keywords\n",
    "\"\"\" \n",
    "Keywordws are not allowed as a variable, to see all the variables\n",
    "we can use below code\n",
    "\"\"\"\n",
    "import  keyword\n",
    "output = keyword.kwlist\n",
    "print(output)\n",
    "print(len(output))"
   ]
  },
  {
   "cell_type": "code",
   "execution_count": 14,
   "metadata": {},
   "outputs": [
    {
     "name": "stdout",
     "output_type": "stream",
     "text": [
      "ravi\n"
     ]
    }
   ],
   "source": [
    "\"\"\"\n",
    " Data types -> primitive, composite\n",
    " primitive ----> int 10, str \"maaz\", float 30.1, bool True, False\n",
    " composite ----> list [1, 2], tuple (1, 2), \n",
    "                 set {1, 2}, dict {'name':'akash'},\n",
    "                 frozenset frozentset({1, 2})\n",
    "\"\"\"\n",
    "\n",
    "# output --> print()\n",
    "# input \n",
    "name = input()\n",
    "print(name)"
   ]
  },
  {
   "cell_type": "code",
   "execution_count": 1,
   "metadata": {},
   "outputs": [
    {
     "name": "stdout",
     "output_type": "stream",
     "text": [
      "Hey ni, Happy Coding\n"
     ]
    }
   ],
   "source": [
    "name = input(\"Enter Name: \")\n",
    "print(f\"Hey {name}, Happy Coding\")"
   ]
  },
  {
   "cell_type": "code",
   "execution_count": 9,
   "metadata": {},
   "outputs": [
    {
     "name": "stdout",
     "output_type": "stream",
     "text": [
      "<class 'int'>\n",
      "int->str==== 30 <class 'str'>\n",
      "int->float==== 30.0 <class 'float'>\n",
      "float->int==== 40 <class 'int'>\n",
      "str->int==== 123 <class 'int'>\n",
      "str->float==== 123.9 <class 'float'>\n",
      "str->int==== 123 <class 'int'>\n",
      "str->bool=== False <class 'bool'>\n"
     ]
    }
   ],
   "source": [
    "# type conversions\n",
    "\"\"\" \n",
    "- we can convert any data type into str\n",
    "\"\"\"\n",
    "\n",
    "num = (20)\n",
    "print(type(num))\n",
    "\n",
    "# int -> str\n",
    "num = 30 #int\n",
    "num = str(30) #str\n",
    "print(\"int->str====\", num, type(num))\n",
    "\n",
    "\n",
    "# int -> float\n",
    "num = 30 #int\n",
    "num = float(30) #str\n",
    "print(\"int->float====\", num, type(num))\n",
    "\n",
    "num = 40.99999\n",
    "num = int(num)\n",
    "print(\"float->int====\", num, type(num))\n",
    "\n",
    "\n",
    "num = \"123\"\n",
    "num = int(num)\n",
    "print(\"str->int====\", num, type(num))\n",
    "\n",
    "num = \"123.9\"\n",
    "num = float(num)\n",
    "print(\"str->float====\", num, type(num))\n",
    "\n",
    "num = \"123.9\"\n",
    "num = float(num)\n",
    "num = int(num)\n",
    "print(\"str->int====\", num, type(num))\n",
    "\n",
    "# non-zeroes or non-empty -------> True\n",
    "# zeroes or empty -------> False\n",
    "value = \"temp\"\n",
    "value = bool(value)\n",
    "print(\"str->bool===\", value, type(value))\n"
   ]
  },
  {
   "cell_type": "code",
   "execution_count": 38,
   "metadata": {},
   "outputs": [
    {
     "name": "stdout",
     "output_type": "stream",
     "text": [
      "list->tuple==== (1, 2, 3, 3) <class 'tuple'>\n",
      "list->set==== {1, 2, 3} <class 'set'>\n",
      "list->dict==== {'name': 'srikanth', 'course': 'python'} <class 'dict'>\n"
     ]
    }
   ],
   "source": [
    "# composite type conversions\n",
    "arr = [1, 2, 3, 3]\n",
    "arr_tuple = tuple(arr)\n",
    "print(\"list->tuple====\", arr_tuple, type(arr_tuple))\n",
    "\n",
    "arr_set = set(arr)\n",
    "print(\"list->set====\", arr_set, type(arr_set))\n",
    "\n",
    "temp = [(\"name\",\"srikanth\"), [\"course\", \"python\"]]\n",
    "arr_dict = dict(temp)\n",
    "print(\"list->dict====\", arr_dict, type(arr_dict))\n"
   ]
  },
  {
   "cell_type": "code",
   "execution_count": 45,
   "metadata": {},
   "outputs": [],
   "source": [
    "# memory model\n",
    "\"\"\" \n",
    "mutable ---> changeble & before and after changes, address should be same\n",
    "immutable ---> unchangeble & before and after changes, address may be change\n",
    "\"\"\"\n",
    "\n",
    "\n",
    "name = \"python\"\n",
    "print(f\"Address Before Changes: {id(name)}\")\n",
    "\n",
    "name += \"crt\"\n",
    "print(f\"Address After Changes: {id(name)}\")\n"
   ]
  },
  {
   "cell_type": "code",
   "execution_count": 11,
   "metadata": {},
   "outputs": [
    {
     "name": "stdout",
     "output_type": "stream",
     "text": [
      "False\n",
      "True\n",
      "True\n",
      "False\n",
      "True\n",
      "=====================================\n",
      "True\n",
      "True\n"
     ]
    }
   ],
   "source": [
    "\"\"\" \n",
    "operators\n",
    "  Arithematic ---> +, -, *, /, //, %, **\n",
    "  Short hand assignment ---> +=, -=, *=, /=, //=, %=, **=\n",
    "  Relational ---> <=, >=, ==, !=\n",
    "  Logical    ----> and, or\n",
    "  MemberShip ----> in, not in\n",
    "  Identity   ----> is, is not (based on id)\n",
    "\"\"\"\n",
    "num = 30\n",
    "num += 5 # num = num + 5\n",
    "num *= 5 # num = num * 5\n",
    "num /= 5 # num = num / 5\n",
    "\n",
    "# should be greater than 20 and even number\n",
    "num = 4\n",
    "print((num>20) and (num%2==0))\n",
    "print((num>20) or (num%2==0))\n",
    "\n",
    "# in, not in\n",
    "print(\"code\" in \"codewala\")\n",
    "print(\"code\" in \"Codewala\")\n",
    "print(\"code\" not in \"Codewala\")\n",
    "\n",
    "print(\"=====================================\")\n",
    "# identity operators\n",
    "a = -3\n",
    "b = -3\n",
    "# object pooling range (-6, +256)\n",
    "print(a==b)\n",
    "print(a is b)"
   ]
  },
  {
   "cell_type": "code",
   "execution_count": 13,
   "metadata": {},
   "outputs": [
    {
     "name": "stdout",
     "output_type": "stream",
     "text": [
      "Positive a\n",
      "Negative a\n"
     ]
    }
   ],
   "source": [
    "a = \"\"\" \n",
    "strings \n",
    "- Representation (single, double, triple) \n",
    "\"\"\"\n",
    "a = \"venkat\"\n",
    "b = 'chandu'\n",
    "c =  \"\"\"prasad\"\"\"\n",
    "d = '''balaji'''\n",
    "\n",
    "\n",
    "\"\"\"\n",
    "indexing\n",
    "     \"python\"\n",
    "      012345\n",
    "     -6-5-4-3-2-1\n",
    " \"\"\"\n",
    "print(f\"Positive {b[2]}\")\n",
    "print(f\"Negative {b[-4]}\")"
   ]
  },
  {
   "cell_type": "code",
   "execution_count": 18,
   "metadata": {},
   "outputs": [
    {
     "name": "stdout",
     "output_type": "stream",
     "text": [
      "python's\n",
      "python\\'s\n"
     ]
    }
   ],
   "source": [
    "# quote character and \\ in string\n",
    "print('python\\'s')\n",
    "print('python\\\\\\'s')"
   ]
  },
  {
   "cell_type": "code",
   "execution_count": 19,
   "metadata": {},
   "outputs": [
    {
     "name": "stdout",
     "output_type": "stream",
     "text": [
      "This is python prime batch\n"
     ]
    }
   ],
   "source": [
    "# multi line string(using \\,\"\"\")\n",
    "sentence = 'This \\\n",
    "is python \\\n",
    "prime batch'\n",
    "print(sentence)"
   ]
  },
  {
   "cell_type": "code",
   "execution_count": 35,
   "metadata": {},
   "outputs": [
    {
     "name": "stdout",
     "output_type": "stream",
     "text": [
      "John_1002\n",
      ", किसी भी प्रकार की नई \n"
     ]
    }
   ],
   "source": [
    "# concatenation\n",
    "name = \"john\"\n",
    "_id = 1002\n",
    "password = name + \"_\" + str(_id)\n",
    "\n",
    "print(password.capitalize())\n",
    "\n",
    "news = \"తాజా వార్తలు మరియు బ్రేకింగ్ న్యూస్ ఆంధ్రప్రదేశ్, తెలంగాణ, రాజకీయాలు, జాతీయం, రాష్ట్రం, ప్రపంచం, అంతర్జాతీయం,టీవీ, సినిమా, క్రీడలు, వ్యాపారం,\"\n",
    "sans = \"किसी भी प्रकार की नई \"\n",
    "print(news[-1], sans)"
   ]
  },
  {
   "cell_type": "code",
   "execution_count": 42,
   "metadata": {},
   "outputs": [
    {
     "name": "stdout",
     "output_type": "stream",
     "text": [
      "Th\n",
      "Th\n",
      "=======positive slicing========\n",
      "Ti\n",
      "This is python code\n",
      "This is python code\n",
      "Ti spto oe\n",
      "=======negative slicing========\n",
      "cd\n",
      "edoc nohtyp si sihT\n",
      "python\n",
      "This is python code\n",
      "This is python code\n"
     ]
    }
   ],
   "source": [
    "# slicing\n",
    "sentence = \"This is python code\"\n",
    "print(sentence[0] + sentence[1])\n",
    "print(f\"{sentence[0]}{sentence[1]}\")\n",
    "\"\"\" \n",
    "syntax --> var[start:stop:step]\n",
    "syntax --> var[start:stop]\n",
    "\"\"\"\n",
    "print(\"=======positive slicing========\")\n",
    "print(sentence[0:4:2])\n",
    "print(sentence[0:])\n",
    "print(sentence[:])\n",
    "print(sentence[0:len(sentence):2])\n",
    "\n",
    "print(\"=======negative slicing========\")\n",
    "print(sentence[-4::2])\n",
    "print(sentence[-1::-1])\n",
    "print(sentence[-11:-5])\n",
    "print(sentence[::])\n",
    "print(sentence[:])\n"
   ]
  },
  {
   "cell_type": "code",
   "execution_count": 59,
   "metadata": {},
   "outputs": [
    {
     "name": "stdout",
     "output_type": "stream",
     "text": [
      "3\n"
     ]
    }
   ],
   "source": [
    "# string functions\n",
    "word = \" pyt hon dg e ger g \"\n",
    "word = word.lower()\n",
    "word = word.upper()\n",
    "word = word.lower()\n",
    "word = word.capitalize()\n",
    "word = word.replace(\" \", \"\")\n",
    "word = word.count(\"g\")\n",
    "# word = word.replace(\" \", \"\")\n",
    "print(word)"
   ]
  },
  {
   "cell_type": "code",
   "execution_count": 14,
   "metadata": {},
   "outputs": [
    {
     "name": "stdout",
     "output_type": "stream",
     "text": [
      "['This', 'is', 'pYthon', 'class', 'daY', '3']\n",
      "\n"
     ]
    }
   ],
   "source": [
    "word = \"   this  is    python   class day 3  \"\n",
    "word = word.strip()\n",
    "word = word.capitalize()\n",
    "word = word.split()\n",
    "word = \"-\".join(word)\n",
    "word = word.replace(\"y\", \"Y\")\n",
    "word = word.split(\"-\")\n",
    "print(word)\n",
    "\n",
    "\n",
    "\"\"\"\n",
    "Expected Output: \n",
    "--------------------\n",
    "This-is-pYthon-class-daY-3\n",
    "\"\"\"\n",
    "print()"
   ]
  },
  {
   "cell_type": "code",
   "execution_count": 30,
   "metadata": {},
   "outputs": [
    {
     "name": "stdout",
     "output_type": "stream",
     "text": [
      "-1\n"
     ]
    }
   ],
   "source": [
    "# index vs find\n",
    "\n",
    "sentence = \"this is zkdgber ger grt zach salvatore\"\n",
    "# print(sentence.index(\"j\"))\n",
    "# print(sentence.rfind(\"z\"))\n",
    "print(sentence.find(\"j\"))\n"
   ]
  },
  {
   "cell_type": "code",
   "execution_count": 51,
   "metadata": {},
   "outputs": [
    {
     "name": "stdout",
     "output_type": "stream",
     "text": [
      "False\n",
      "False\n",
      "False\n",
      "True\n",
      "False\n",
      "True\n"
     ]
    }
   ],
   "source": [
    "sentence = \"steewefrgkj@nrjkrhtgrejkrhrve@ gmail.com\"\n",
    "print(sentence[sentence.rfind(\"@\"):] == \"@gmail.com\")\n",
    "\n",
    "print(sentence.startswith(\"T\"))\n",
    "print(sentence.endswith(\"@gmail.com\"))\n",
    "\n",
    "sentence = \"1223\"\n",
    "print(sentence.isalnum())\n",
    "print(sentence.isalpha())\n",
    "print(sentence.isdigit())\n"
   ]
  },
  {
   "cell_type": "code",
   "execution_count": 20,
   "metadata": {},
   "outputs": [
    {
     "name": "stdout",
     "output_type": "stream",
     "text": [
      "0\n",
      "1\n",
      "2\n",
      "3\n",
      "4\n",
      "5\n",
      "6\n",
      "7\n",
      "8\n",
      "9\n",
      "========================================\n",
      "s\n",
      "t\n",
      "e\n",
      "e\n",
      "v\n",
      "e\n",
      "r\n",
      "o\n",
      "g\n",
      "e\n",
      "r\n",
      "s\n",
      "steeverogers\n"
     ]
    }
   ],
   "source": [
    "\"\"\"\n",
    "control structures\n",
    "looping ----> for, while, for-else, while-else\n",
    "conditional ---> if, else, nested if-else\n",
    "unconditional ---> pass, break, continue\n",
    "\"\"\"\n",
    "# looping\n",
    "for steeve in range(0,10):\n",
    "    print(steeve)\n",
    "\n",
    "print(\"========================================\")\n",
    "name = (\"steeverogers\")\n",
    "for steeve in range(0,len(name)):\n",
    "    print(name[steeve])\n",
    "\n",
    "name = (\"steeverogers\",)\n",
    "for steeve in range(0,len(name)):\n",
    "    print(name[steeve])"
   ]
  },
  {
   "cell_type": "code",
   "execution_count": 19,
   "metadata": {},
   "outputs": [
    {
     "name": "stdout",
     "output_type": "stream",
     "text": [
      "Output: nick\n",
      "Output: steeve\n",
      "Output: rogers\n",
      "Output: codewala\n",
      "Output: tony\n"
     ]
    }
   ],
   "source": [
    "\"\"\" \n",
    "take 5 inputs from user\n",
    "after each input, print if input length is below or equal to 5, else print invalid\n",
    "\"\"\"\n",
    "for num in range(1, 6):\n",
    "    name = input(f\"Enter Input-{num} :\")\n",
    "    if len(name) <= 5:\n",
    "        print(f\"Output: {name}\")\n",
    "    else:\n",
    "        break"
   ]
  }
 ],
 "metadata": {
  "kernelspec": {
   "display_name": "Python 3",
   "language": "python",
   "name": "python3"
  },
  "language_info": {
   "codemirror_mode": {
    "name": "ipython",
    "version": 3
   },
   "file_extension": ".py",
   "mimetype": "text/x-python",
   "name": "python",
   "nbconvert_exporter": "python",
   "pygments_lexer": "ipython3",
   "version": "3.12.4"
  }
 },
 "nbformat": 4,
 "nbformat_minor": 2
}
